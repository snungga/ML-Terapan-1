{
 "cells": [
  {
   "cell_type": "code",
   "execution_count": 1,
   "id": "e6653bbc",
   "metadata": {},
   "outputs": [],
   "source": [
    "import numpy as np\n",
    "import pandas as pd\n",
    "import seaborn as sns\n",
    "import matplotlib.pyplot as plt"
   ]
  },
  {
   "cell_type": "code",
   "execution_count": 76,
   "id": "d8543d93",
   "metadata": {},
   "outputs": [
    {
     "data": {
      "text/html": [
       "<div>\n",
       "<style scoped>\n",
       "    .dataframe tbody tr th:only-of-type {\n",
       "        vertical-align: middle;\n",
       "    }\n",
       "\n",
       "    .dataframe tbody tr th {\n",
       "        vertical-align: top;\n",
       "    }\n",
       "\n",
       "    .dataframe thead th {\n",
       "        text-align: right;\n",
       "    }\n",
       "</style>\n",
       "<table border=\"1\" class=\"dataframe\">\n",
       "  <thead>\n",
       "    <tr style=\"text-align: right;\">\n",
       "      <th></th>\n",
       "      <th>date</th>\n",
       "      <th>home_team</th>\n",
       "      <th>away_team</th>\n",
       "      <th>home_score</th>\n",
       "      <th>away_score</th>\n",
       "      <th>tournament</th>\n",
       "      <th>city</th>\n",
       "      <th>country</th>\n",
       "      <th>neutral</th>\n",
       "    </tr>\n",
       "  </thead>\n",
       "  <tbody>\n",
       "    <tr>\n",
       "      <th>0</th>\n",
       "      <td>1872-11-30</td>\n",
       "      <td>Scotland</td>\n",
       "      <td>England</td>\n",
       "      <td>0.0</td>\n",
       "      <td>0.0</td>\n",
       "      <td>Friendly</td>\n",
       "      <td>Glasgow</td>\n",
       "      <td>Scotland</td>\n",
       "      <td>False</td>\n",
       "    </tr>\n",
       "    <tr>\n",
       "      <th>1</th>\n",
       "      <td>1873-03-08</td>\n",
       "      <td>England</td>\n",
       "      <td>Scotland</td>\n",
       "      <td>4.0</td>\n",
       "      <td>2.0</td>\n",
       "      <td>Friendly</td>\n",
       "      <td>London</td>\n",
       "      <td>England</td>\n",
       "      <td>False</td>\n",
       "    </tr>\n",
       "    <tr>\n",
       "      <th>2</th>\n",
       "      <td>1874-03-07</td>\n",
       "      <td>Scotland</td>\n",
       "      <td>England</td>\n",
       "      <td>2.0</td>\n",
       "      <td>1.0</td>\n",
       "      <td>Friendly</td>\n",
       "      <td>Glasgow</td>\n",
       "      <td>Scotland</td>\n",
       "      <td>False</td>\n",
       "    </tr>\n",
       "    <tr>\n",
       "      <th>3</th>\n",
       "      <td>1875-03-06</td>\n",
       "      <td>England</td>\n",
       "      <td>Scotland</td>\n",
       "      <td>2.0</td>\n",
       "      <td>2.0</td>\n",
       "      <td>Friendly</td>\n",
       "      <td>London</td>\n",
       "      <td>England</td>\n",
       "      <td>False</td>\n",
       "    </tr>\n",
       "    <tr>\n",
       "      <th>4</th>\n",
       "      <td>1876-03-04</td>\n",
       "      <td>Scotland</td>\n",
       "      <td>England</td>\n",
       "      <td>3.0</td>\n",
       "      <td>0.0</td>\n",
       "      <td>Friendly</td>\n",
       "      <td>Glasgow</td>\n",
       "      <td>Scotland</td>\n",
       "      <td>False</td>\n",
       "    </tr>\n",
       "  </tbody>\n",
       "</table>\n",
       "</div>"
      ],
      "text/plain": [
       "         date home_team away_team  home_score  away_score tournament     city  \\\n",
       "0  1872-11-30  Scotland   England         0.0         0.0   Friendly  Glasgow   \n",
       "1  1873-03-08   England  Scotland         4.0         2.0   Friendly   London   \n",
       "2  1874-03-07  Scotland   England         2.0         1.0   Friendly  Glasgow   \n",
       "3  1875-03-06   England  Scotland         2.0         2.0   Friendly   London   \n",
       "4  1876-03-04  Scotland   England         3.0         0.0   Friendly  Glasgow   \n",
       "\n",
       "    country  neutral  \n",
       "0  Scotland    False  \n",
       "1   England    False  \n",
       "2  Scotland    False  \n",
       "3   England    False  \n",
       "4  Scotland    False  "
      ]
     },
     "execution_count": 76,
     "metadata": {},
     "output_type": "execute_result"
    }
   ],
   "source": [
    "df = pd.read_csv('Dataset/results.csv')\n",
    "df.head()"
   ]
  },
  {
   "cell_type": "markdown",
   "id": "17620852",
   "metadata": {},
   "source": [
    "# Deskripsi Variabel"
   ]
  },
  {
   "cell_type": "markdown",
   "id": "7da8817c",
   "metadata": {},
   "source": [
    "Berdasarkan informasi dari dataset tersebut hasil pertandingan bola dri tahun 1872-2022 (hingga piala dunia berlangsung) sebagai berikut :\n",
    "1. date\t: tangggal berlangsungnya pertandingan\n",
    "2. home_team\t: team tuan rumah yang bermain\n",
    "3. away_team\t: team tandang yang bermai\n",
    "4. home_score\t: skor team rumah\n",
    "5. away_score\t: skor team tandang\n",
    "6. tournament\t: nama turnamen/kompetisi yang tercatat oleh FIFA\n",
    "7. city\t: kota tempat match berlangsung\n",
    "8. country\t: negara tempat match berlangsung\n",
    "9. neutral : tempat match berlangsung bersifat netral(bukan tuan rumah)"
   ]
  },
  {
   "cell_type": "code",
   "execution_count": 3,
   "id": "d2dcb47f",
   "metadata": {},
   "outputs": [
    {
     "data": {
      "text/html": [
       "<div>\n",
       "<style scoped>\n",
       "    .dataframe tbody tr th:only-of-type {\n",
       "        vertical-align: middle;\n",
       "    }\n",
       "\n",
       "    .dataframe tbody tr th {\n",
       "        vertical-align: top;\n",
       "    }\n",
       "\n",
       "    .dataframe thead th {\n",
       "        text-align: right;\n",
       "    }\n",
       "</style>\n",
       "<table border=\"1\" class=\"dataframe\">\n",
       "  <thead>\n",
       "    <tr style=\"text-align: right;\">\n",
       "      <th></th>\n",
       "      <th>count</th>\n",
       "      <th>mean</th>\n",
       "      <th>std</th>\n",
       "      <th>min</th>\n",
       "      <th>25%</th>\n",
       "      <th>50%</th>\n",
       "      <th>75%</th>\n",
       "      <th>max</th>\n",
       "    </tr>\n",
       "  </thead>\n",
       "  <tbody>\n",
       "    <tr>\n",
       "      <th>home_score</th>\n",
       "      <td>44202.0</td>\n",
       "      <td>1.739107</td>\n",
       "      <td>1.746388</td>\n",
       "      <td>0.0</td>\n",
       "      <td>1.0</td>\n",
       "      <td>1.0</td>\n",
       "      <td>2.0</td>\n",
       "      <td>31.0</td>\n",
       "    </tr>\n",
       "    <tr>\n",
       "      <th>away_score</th>\n",
       "      <td>44202.0</td>\n",
       "      <td>1.178069</td>\n",
       "      <td>1.394215</td>\n",
       "      <td>0.0</td>\n",
       "      <td>0.0</td>\n",
       "      <td>1.0</td>\n",
       "      <td>2.0</td>\n",
       "      <td>21.0</td>\n",
       "    </tr>\n",
       "  </tbody>\n",
       "</table>\n",
       "</div>"
      ],
      "text/plain": [
       "              count      mean       std  min  25%  50%  75%   max\n",
       "home_score  44202.0  1.739107  1.746388  0.0  1.0  1.0  2.0  31.0\n",
       "away_score  44202.0  1.178069  1.394215  0.0  0.0  1.0  2.0  21.0"
      ]
     },
     "execution_count": 3,
     "metadata": {},
     "output_type": "execute_result"
    }
   ],
   "source": [
    "df.describe().T"
   ]
  },
  {
   "cell_type": "markdown",
   "id": "71ced04f",
   "metadata": {},
   "source": [
    "Fungsi describe() memberikan informasi statistik pada masing-masing kolom, antara lain:\n",
    "\n",
    "* Count adalah jumlah sample pada data.\n",
    "* Mean adalah nilai rata-rata\n",
    "* Std adalah standar deviasi\n",
    "* Min yaitu nilai minimum setiap kolom\n",
    "* 25% adalah kuartil pertama. Kuartil adalah nilai yang menandai batas interval dalam empat bagian sebaran yang sama.\n",
    "* 50% adalah kuartil kedua, atau biasa juga disebut median (nilai tengah).\n",
    "* 75% adalah kuartil ketiga.\n",
    "* Max adalah nilai maksimum."
   ]
  },
  {
   "cell_type": "code",
   "execution_count": 77,
   "id": "6aba274c",
   "metadata": {},
   "outputs": [
    {
     "name": "stdout",
     "output_type": "stream",
     "text": [
      "<class 'pandas.core.frame.DataFrame'>\n",
      "RangeIndex: 44206 entries, 0 to 44205\n",
      "Data columns (total 9 columns):\n",
      " #   Column      Non-Null Count  Dtype  \n",
      "---  ------      --------------  -----  \n",
      " 0   date        44206 non-null  object \n",
      " 1   home_team   44206 non-null  object \n",
      " 2   away_team   44206 non-null  object \n",
      " 3   home_score  44202 non-null  float64\n",
      " 4   away_score  44202 non-null  float64\n",
      " 5   tournament  44206 non-null  object \n",
      " 6   city        44206 non-null  object \n",
      " 7   country     44206 non-null  object \n",
      " 8   neutral     44206 non-null  bool   \n",
      "dtypes: bool(1), float64(2), object(6)\n",
      "memory usage: 2.7+ MB\n"
     ]
    }
   ],
   "source": [
    "df.info()"
   ]
  },
  {
   "cell_type": "markdown",
   "id": "72831a3d",
   "metadata": {},
   "source": [
    "Berdasarkan informasi dari dataset tersebut hasil pertandingan bola dri tahun 1872-2022 (hingga piala dunia berlangsung) sebagai berikut :\n",
    "1. date\t: berisi tanggal dan bersifat object (non-int)\n",
    "2. home_team\t: berisi nama tim yang menjadi tuan rumah (negara)\n",
    "3. away_team\t: berisi nama tim yang menjadi tandang (negara)\n",
    "4. home_score\t: skor bersifat float (1.0 , 2.0 , 3.0 dst)\n",
    "5. away_score\t: skor bersifat float (1.0 , 2.0 , 3.0 dst)\n",
    "6. tournament\t:  berisi nama turnamen/kompetisi yang tercatat oleh FIFA\n",
    "7. city\t:  berisi nama kota tempat match berlangsung\n",
    "8. country\t: berisi nama negara tempat match berlangsung\n",
    "9. neutral : berisi sifat (False/True)"
   ]
  },
  {
   "cell_type": "code",
   "execution_count": 4,
   "id": "94d5a917",
   "metadata": {
    "scrolled": true
   },
   "outputs": [
    {
     "data": {
      "text/plain": [
       "date          0\n",
       "home_team     0\n",
       "away_team     0\n",
       "home_score    4\n",
       "away_score    4\n",
       "tournament    0\n",
       "city          0\n",
       "country       0\n",
       "neutral       0\n",
       "dtype: int64"
      ]
     },
     "execution_count": 4,
     "metadata": {},
     "output_type": "execute_result"
    }
   ],
   "source": [
    "df.isnull().sum()"
   ]
  },
  {
   "cell_type": "code",
   "execution_count": 5,
   "id": "490e27e3",
   "metadata": {
    "scrolled": true
   },
   "outputs": [
    {
     "name": "stdout",
     "output_type": "stream",
     "text": [
      "             date    home_team    away_team  home_score  away_score  \\\n",
      "44202  2022-12-02       Serbia  Switzerland         NaN         NaN   \n",
      "44203  2022-12-02     Cameroon       Brazil         NaN         NaN   \n",
      "44204  2022-12-02        Ghana      Uruguay         NaN         NaN   \n",
      "44205  2022-12-02  South Korea     Portugal         NaN         NaN   \n",
      "\n",
      "           tournament       city country  neutral  \n",
      "44202  FIFA World Cup       Doha   Qatar     True  \n",
      "44203  FIFA World Cup     Lusail   Qatar     True  \n",
      "44204  FIFA World Cup  Al Wakrah   Qatar     True  \n",
      "44205  FIFA World Cup  Al Rayyan   Qatar     True  \n"
     ]
    }
   ],
   "source": [
    "print(df[df['home_score'].isnull()])"
   ]
  },
  {
   "cell_type": "markdown",
   "id": "dce2dbbe",
   "metadata": {},
   "source": [
    "Berdasarkan EDA menunjukan bahwa masih ada data yang bersifat NaN ditunjukkan pada tournament yang berlangsung (FIFA World Cup) maka dihilangkan saja 4 data tersebut"
   ]
  },
  {
   "cell_type": "code",
   "execution_count": 6,
   "id": "027f08ad",
   "metadata": {},
   "outputs": [
    {
     "data": {
      "text/plain": [
       "date          0\n",
       "home_team     0\n",
       "away_team     0\n",
       "home_score    0\n",
       "away_score    0\n",
       "tournament    0\n",
       "city          0\n",
       "country       0\n",
       "neutral       0\n",
       "dtype: int64"
      ]
     },
     "execution_count": 6,
     "metadata": {},
     "output_type": "execute_result"
    }
   ],
   "source": [
    "df=df.dropna()\n",
    "df.isnull().sum()"
   ]
  },
  {
   "cell_type": "code",
   "execution_count": 9,
   "id": "53d5e3de",
   "metadata": {
    "scrolled": true
   },
   "outputs": [
    {
     "data": {
      "text/plain": [
       "<AxesSubplot:>"
      ]
     },
     "execution_count": 9,
     "metadata": {},
     "output_type": "execute_result"
    },
    {
     "data": {
      "image/png": "[encoded data removed]",
      "text/plain": [
       "<Figure size 432x288 with 1 Axes>"
      ]
     },
     "metadata": {
      "needs_background": "light"
     },
     "output_type": "display_data"
    }
   ],
   "source": [
    "df.boxplot(column=['home_score','away_score'])"
   ]
  },
  {
   "cell_type": "markdown",
   "id": "83a5eebd",
   "metadata": {},
   "source": [
    "Target analisis ini adalah menggunakan home dan away score mulai dari tahun 1872-2022 dan terlihat masih banyak outlier yang terdapat pada box plot diduga sepakbola sebelum jaman modern menghasilkan score diatas 5 dan untuk skor tuan rumah tertinggi mencapai 30 dan akan dinormaliasiskan saja dengan mencari skor dibawah 15 gol (asumsi pribadi)"
   ]
  },
  {
   "cell_type": "code",
   "execution_count": 10,
   "id": "c762085a",
   "metadata": {},
   "outputs": [
    {
     "data": {
      "text/html": [
       "<div>\n",
       "<style scoped>\n",
       "    .dataframe tbody tr th:only-of-type {\n",
       "        vertical-align: middle;\n",
       "    }\n",
       "\n",
       "    .dataframe tbody tr th {\n",
       "        vertical-align: top;\n",
       "    }\n",
       "\n",
       "    .dataframe thead th {\n",
       "        text-align: right;\n",
       "    }\n",
       "</style>\n",
       "<table border=\"1\" class=\"dataframe\">\n",
       "  <thead>\n",
       "    <tr style=\"text-align: right;\">\n",
       "      <th></th>\n",
       "      <th>date</th>\n",
       "      <th>home_team</th>\n",
       "      <th>away_team</th>\n",
       "      <th>home_score</th>\n",
       "      <th>away_score</th>\n",
       "      <th>tournament</th>\n",
       "      <th>city</th>\n",
       "      <th>country</th>\n",
       "      <th>neutral</th>\n",
       "    </tr>\n",
       "  </thead>\n",
       "  <tbody>\n",
       "    <tr>\n",
       "      <th>0</th>\n",
       "      <td>1872-11-30</td>\n",
       "      <td>Scotland</td>\n",
       "      <td>England</td>\n",
       "      <td>0.0</td>\n",
       "      <td>0.0</td>\n",
       "      <td>Friendly</td>\n",
       "      <td>Glasgow</td>\n",
       "      <td>Scotland</td>\n",
       "      <td>False</td>\n",
       "    </tr>\n",
       "    <tr>\n",
       "      <th>1</th>\n",
       "      <td>1873-03-08</td>\n",
       "      <td>England</td>\n",
       "      <td>Scotland</td>\n",
       "      <td>4.0</td>\n",
       "      <td>2.0</td>\n",
       "      <td>Friendly</td>\n",
       "      <td>London</td>\n",
       "      <td>England</td>\n",
       "      <td>False</td>\n",
       "    </tr>\n",
       "    <tr>\n",
       "      <th>2</th>\n",
       "      <td>1874-03-07</td>\n",
       "      <td>Scotland</td>\n",
       "      <td>England</td>\n",
       "      <td>2.0</td>\n",
       "      <td>1.0</td>\n",
       "      <td>Friendly</td>\n",
       "      <td>Glasgow</td>\n",
       "      <td>Scotland</td>\n",
       "      <td>False</td>\n",
       "    </tr>\n",
       "    <tr>\n",
       "      <th>3</th>\n",
       "      <td>1875-03-06</td>\n",
       "      <td>England</td>\n",
       "      <td>Scotland</td>\n",
       "      <td>2.0</td>\n",
       "      <td>2.0</td>\n",
       "      <td>Friendly</td>\n",
       "      <td>London</td>\n",
       "      <td>England</td>\n",
       "      <td>False</td>\n",
       "    </tr>\n",
       "    <tr>\n",
       "      <th>4</th>\n",
       "      <td>1876-03-04</td>\n",
       "      <td>Scotland</td>\n",
       "      <td>England</td>\n",
       "      <td>3.0</td>\n",
       "      <td>0.0</td>\n",
       "      <td>Friendly</td>\n",
       "      <td>Glasgow</td>\n",
       "      <td>Scotland</td>\n",
       "      <td>False</td>\n",
       "    </tr>\n",
       "  </tbody>\n",
       "</table>\n",
       "</div>"
      ],
      "text/plain": [
       "         date home_team away_team  home_score  away_score tournament     city  \\\n",
       "0  1872-11-30  Scotland   England         0.0         0.0   Friendly  Glasgow   \n",
       "1  1873-03-08   England  Scotland         4.0         2.0   Friendly   London   \n",
       "2  1874-03-07  Scotland   England         2.0         1.0   Friendly  Glasgow   \n",
       "3  1875-03-06   England  Scotland         2.0         2.0   Friendly   London   \n",
       "4  1876-03-04  Scotland   England         3.0         0.0   Friendly  Glasgow   \n",
       "\n",
       "    country  neutral  \n",
       "0  Scotland    False  \n",
       "1   England    False  \n",
       "2  Scotland    False  \n",
       "3   England    False  \n",
       "4  Scotland    False  "
      ]
     },
     "execution_count": 10,
     "metadata": {},
     "output_type": "execute_result"
    }
   ],
   "source": [
    "higher_home=15\n",
    "higher_away=15\n",
    "df=df[(df[\"home_score\"]<higher_home) & (df[\"away_score\"]<higher_away)]\n",
    "df.head(5)"
   ]
  },
  {
   "cell_type": "code",
   "execution_count": 11,
   "id": "bddf9dcb",
   "metadata": {},
   "outputs": [
    {
     "data": {
      "text/html": [
       "<div>\n",
       "<style scoped>\n",
       "    .dataframe tbody tr th:only-of-type {\n",
       "        vertical-align: middle;\n",
       "    }\n",
       "\n",
       "    .dataframe tbody tr th {\n",
       "        vertical-align: top;\n",
       "    }\n",
       "\n",
       "    .dataframe thead th {\n",
       "        text-align: right;\n",
       "    }\n",
       "</style>\n",
       "<table border=\"1\" class=\"dataframe\">\n",
       "  <thead>\n",
       "    <tr style=\"text-align: right;\">\n",
       "      <th></th>\n",
       "      <th>date</th>\n",
       "      <th>home_team</th>\n",
       "      <th>away_team</th>\n",
       "      <th>home_score</th>\n",
       "      <th>away_score</th>\n",
       "      <th>tournament</th>\n",
       "      <th>city</th>\n",
       "      <th>country</th>\n",
       "      <th>neutral</th>\n",
       "      <th>Keterangan</th>\n",
       "    </tr>\n",
       "  </thead>\n",
       "  <tbody>\n",
       "    <tr>\n",
       "      <th>0</th>\n",
       "      <td>1872-11-30</td>\n",
       "      <td>Scotland</td>\n",
       "      <td>England</td>\n",
       "      <td>0.0</td>\n",
       "      <td>0.0</td>\n",
       "      <td>Friendly</td>\n",
       "      <td>Glasgow</td>\n",
       "      <td>Scotland</td>\n",
       "      <td>False</td>\n",
       "      <td>Draw</td>\n",
       "    </tr>\n",
       "    <tr>\n",
       "      <th>1</th>\n",
       "      <td>1873-03-08</td>\n",
       "      <td>England</td>\n",
       "      <td>Scotland</td>\n",
       "      <td>4.0</td>\n",
       "      <td>2.0</td>\n",
       "      <td>Friendly</td>\n",
       "      <td>London</td>\n",
       "      <td>England</td>\n",
       "      <td>False</td>\n",
       "      <td>Win</td>\n",
       "    </tr>\n",
       "    <tr>\n",
       "      <th>2</th>\n",
       "      <td>1874-03-07</td>\n",
       "      <td>Scotland</td>\n",
       "      <td>England</td>\n",
       "      <td>2.0</td>\n",
       "      <td>1.0</td>\n",
       "      <td>Friendly</td>\n",
       "      <td>Glasgow</td>\n",
       "      <td>Scotland</td>\n",
       "      <td>False</td>\n",
       "      <td>Win</td>\n",
       "    </tr>\n",
       "    <tr>\n",
       "      <th>3</th>\n",
       "      <td>1875-03-06</td>\n",
       "      <td>England</td>\n",
       "      <td>Scotland</td>\n",
       "      <td>2.0</td>\n",
       "      <td>2.0</td>\n",
       "      <td>Friendly</td>\n",
       "      <td>London</td>\n",
       "      <td>England</td>\n",
       "      <td>False</td>\n",
       "      <td>Draw</td>\n",
       "    </tr>\n",
       "    <tr>\n",
       "      <th>4</th>\n",
       "      <td>1876-03-04</td>\n",
       "      <td>Scotland</td>\n",
       "      <td>England</td>\n",
       "      <td>3.0</td>\n",
       "      <td>0.0</td>\n",
       "      <td>Friendly</td>\n",
       "      <td>Glasgow</td>\n",
       "      <td>Scotland</td>\n",
       "      <td>False</td>\n",
       "      <td>Win</td>\n",
       "    </tr>\n",
       "    <tr>\n",
       "      <th>5</th>\n",
       "      <td>1876-03-25</td>\n",
       "      <td>Scotland</td>\n",
       "      <td>Wales</td>\n",
       "      <td>4.0</td>\n",
       "      <td>0.0</td>\n",
       "      <td>Friendly</td>\n",
       "      <td>Glasgow</td>\n",
       "      <td>Scotland</td>\n",
       "      <td>False</td>\n",
       "      <td>Win</td>\n",
       "    </tr>\n",
       "    <tr>\n",
       "      <th>6</th>\n",
       "      <td>1877-03-03</td>\n",
       "      <td>England</td>\n",
       "      <td>Scotland</td>\n",
       "      <td>1.0</td>\n",
       "      <td>3.0</td>\n",
       "      <td>Friendly</td>\n",
       "      <td>London</td>\n",
       "      <td>England</td>\n",
       "      <td>False</td>\n",
       "      <td>Lost</td>\n",
       "    </tr>\n",
       "    <tr>\n",
       "      <th>7</th>\n",
       "      <td>1877-03-05</td>\n",
       "      <td>Wales</td>\n",
       "      <td>Scotland</td>\n",
       "      <td>0.0</td>\n",
       "      <td>2.0</td>\n",
       "      <td>Friendly</td>\n",
       "      <td>Wrexham</td>\n",
       "      <td>Wales</td>\n",
       "      <td>False</td>\n",
       "      <td>Lost</td>\n",
       "    </tr>\n",
       "    <tr>\n",
       "      <th>8</th>\n",
       "      <td>1878-03-02</td>\n",
       "      <td>Scotland</td>\n",
       "      <td>England</td>\n",
       "      <td>7.0</td>\n",
       "      <td>2.0</td>\n",
       "      <td>Friendly</td>\n",
       "      <td>Glasgow</td>\n",
       "      <td>Scotland</td>\n",
       "      <td>False</td>\n",
       "      <td>Win</td>\n",
       "    </tr>\n",
       "    <tr>\n",
       "      <th>9</th>\n",
       "      <td>1878-03-23</td>\n",
       "      <td>Scotland</td>\n",
       "      <td>Wales</td>\n",
       "      <td>9.0</td>\n",
       "      <td>0.0</td>\n",
       "      <td>Friendly</td>\n",
       "      <td>Glasgow</td>\n",
       "      <td>Scotland</td>\n",
       "      <td>False</td>\n",
       "      <td>Win</td>\n",
       "    </tr>\n",
       "  </tbody>\n",
       "</table>\n",
       "</div>"
      ],
      "text/plain": [
       "         date home_team away_team  home_score  away_score tournament     city  \\\n",
       "0  1872-11-30  Scotland   England         0.0         0.0   Friendly  Glasgow   \n",
       "1  1873-03-08   England  Scotland         4.0         2.0   Friendly   London   \n",
       "2  1874-03-07  Scotland   England         2.0         1.0   Friendly  Glasgow   \n",
       "3  1875-03-06   England  Scotland         2.0         2.0   Friendly   London   \n",
       "4  1876-03-04  Scotland   England         3.0         0.0   Friendly  Glasgow   \n",
       "5  1876-03-25  Scotland     Wales         4.0         0.0   Friendly  Glasgow   \n",
       "6  1877-03-03   England  Scotland         1.0         3.0   Friendly   London   \n",
       "7  1877-03-05     Wales  Scotland         0.0         2.0   Friendly  Wrexham   \n",
       "8  1878-03-02  Scotland   England         7.0         2.0   Friendly  Glasgow   \n",
       "9  1878-03-23  Scotland     Wales         9.0         0.0   Friendly  Glasgow   \n",
       "\n",
       "    country  neutral Keterangan  \n",
       "0  Scotland    False       Draw  \n",
       "1   England    False        Win  \n",
       "2  Scotland    False        Win  \n",
       "3   England    False       Draw  \n",
       "4  Scotland    False        Win  \n",
       "5  Scotland    False        Win  \n",
       "6   England    False       Lost  \n",
       "7     Wales    False       Lost  \n",
       "8  Scotland    False        Win  \n",
       "9  Scotland    False        Win  "
      ]
     },
     "execution_count": 11,
     "metadata": {},
     "output_type": "execute_result"
    }
   ],
   "source": [
    "conditions  = [df[\"home_score\"] == df[\"away_score\"], \n",
    "               df[\"home_score\"] > df[\"away_score\"] , \n",
    "               df[\"home_score\"] < df[\"away_score\"]]\n",
    "choices     = [ \"Draw\", 'Win', 'Lost' ]\n",
    "df[\"Keterangan\"] = np.select(conditions, choices)\n",
    "df.head(10)"
   ]
  },
  {
   "cell_type": "markdown",
   "id": "aee1c678",
   "metadata": {},
   "source": [
    "Kemudian, dengan berdasarkan score bisa kita klasifikasikan antara status kemenangan setiap match bergunan untuk kedepannya"
   ]
  },
  {
   "cell_type": "code",
   "execution_count": 12,
   "id": "ed890176",
   "metadata": {},
   "outputs": [
    {
     "name": "stdout",
     "output_type": "stream",
     "text": [
      "There are 309 Countries in the home_team Column\n",
      "\n",
      "Countries-['Scotland' 'England' 'Wales' 'Northern Ireland' 'United States' 'Uruguay'\n",
      " 'Austria' 'Hungary' 'Argentina' 'Belgium' 'France' 'Netherlands'\n",
      " 'Czechoslovakia' 'Switzerland' 'Sweden' 'Germany' 'Italy' 'Chile'\n",
      " 'Norway' 'Finland' 'Luxembourg' 'Russia' 'Denmark' 'Catalonia'\n",
      " 'Basque Country' 'Brazil' 'Paraguay' 'Japan' 'Canada' 'Estonia'\n",
      " 'Costa Rica' 'Guatemala' 'Spain' 'Brittany' 'Poland' 'Yugoslavia'\n",
      " 'New Zealand' 'Romania' 'Latvia' 'Galicia' 'Portugal' 'Andalusia'\n",
      " 'China PR' 'Australia' 'Lithuania' 'Turkey' 'Central Spain' 'Mexico'\n",
      " 'Aruba' 'Egypt' 'Haiti' 'Philippines' 'Bulgaria' 'Jamaica' 'Kenya'\n",
      " 'Bolivia' 'Peru' 'Honduras' 'Guyana' 'Uganda' 'Belarus' 'El Salvador'\n",
      " 'Barbados' 'Republic of Ireland' 'Trinidad and Tobago' 'Greece' 'Curaçao'\n",
      " 'Dominica' 'Silesia' 'Guadeloupe' 'Israel' 'Suriname' 'French Guiana'\n",
      " 'Cuba' 'Colombia' 'Ecuador' 'Saint Kitts and Nevis' 'Panama' 'Slovakia'\n",
      " 'Manchukuo' 'Croatia' 'Nicaragua' 'Afghanistan' 'India' 'Martinique'\n",
      " 'Zimbabwe' 'Iceland' 'Albania' 'Venezuela' 'Madagascar' 'Zambia'\n",
      " 'Mauritius' 'Tanzania' 'Iran' 'Djibouti' 'DR Congo' 'Vietnam' 'Macau'\n",
      " 'Ethiopia' 'Puerto Rico' 'Réunion' 'Sierra Leone' 'Zanzibar'\n",
      " 'South Korea' 'Ghana' 'South Africa' 'New Caledonia' 'Fiji' 'Nigeria'\n",
      " 'Myanmar' 'Sri Lanka' 'Tahiti' 'Gambia' 'Hong Kong' 'Singapore'\n",
      " 'Malaysia' 'Indonesia' 'Guinea-Bissau' 'German DR' 'Vanuatu' 'Kernow'\n",
      " 'Saarland' 'Cambodia' 'Lebanon' 'Pakistan' 'Vietnam Republic'\n",
      " 'North Korea' 'Togo' 'Sudan' 'Malta' 'Syria' 'Tunisia' 'Malawi' 'Morocco'\n",
      " 'Benin' 'Cameroon' 'Central African Republic' 'Gabon' 'Ivory Coast'\n",
      " 'Congo' 'Mali' 'North Vietnam' 'Mongolia' 'Taiwan' 'Cyprus' 'Iraq'\n",
      " 'Saint Lucia' 'Grenada' 'Thailand' 'Senegal' 'Libya' 'Guinea' 'Algeria'\n",
      " 'Kuwait' 'Jordan' 'Solomon Islands' 'Liberia' 'Laos'\n",
      " 'Saint Vincent and the Grenadines' 'Bermuda' 'Niger' 'Montenegro'\n",
      " 'Palestine' 'Bahrain' 'Papua New Guinea' 'Burkina Faso' 'Mauritania'\n",
      " 'Saudi Arabia' 'Eswatini' 'Western Australia' 'Somalia' 'Lesotho' 'Qatar'\n",
      " 'Antigua and Barbuda' 'Faroe Islands' 'Bangladesh' 'Yemen' 'Oman'\n",
      " 'Yemen DPR' 'Burundi' 'Mozambique' 'Guam' 'Chad' 'Angola'\n",
      " 'Dominican Republic' 'Seychelles' 'Rwanda' 'São Tomé and Príncipe'\n",
      " 'Botswana' 'Northern Cyprus' 'Cape Verde' 'Kyrgyzstan' 'Georgia'\n",
      " 'Azerbaijan' 'Kiribati' 'Tonga' 'Wallis Islands and Futuna'\n",
      " 'United Arab Emirates' 'Brunei' 'Equatorial Guinea' 'Liechtenstein'\n",
      " 'Nepal' 'Greenland' 'Niue' 'Samoa' 'American Samoa' 'Belize' 'Anguilla'\n",
      " 'Cayman Islands' 'Palau' 'Sint Maarten' 'Namibia' 'Åland Islands'\n",
      " 'Ynys Môn' 'Saint Martin' 'San Marino' 'Slovenia' 'Jersey' 'Shetland'\n",
      " 'Isle of Wight' 'Moldova' 'Ukraine' 'Kazakhstan' 'Tajikistan'\n",
      " 'Uzbekistan' 'Turkmenistan' 'Armenia' 'Czech Republic' 'Guernsey'\n",
      " 'Gibraltar' 'Isle of Man' 'North Macedonia' 'Montserrat' 'Serbia'\n",
      " 'Cook Islands' 'Canary Islands' 'Bosnia and Herzegovina' 'Maldives'\n",
      " 'Andorra' 'British Virgin Islands' 'Frøya' 'Hitra'\n",
      " 'United States Virgin Islands' 'Corsica' 'Eritrea' 'Bahamas' 'Gotland'\n",
      " 'Saare County' 'Rhodes' 'Micronesia' 'Bhutan' 'Orkney' 'Monaco' 'Tuvalu'\n",
      " 'Alderney' 'Mayotte' 'Turks and Caicos Islands' 'Timor-Leste'\n",
      " 'Western Isles' 'Falkland Islands' 'Kosovo' 'Republic of St. Pauli'\n",
      " 'Găgăuzia' 'Tibet' 'Occitania' 'Sápmi' 'Northern Mariana Islands'\n",
      " 'Menorca' 'Comoros' 'Provence' 'Arameans Suryoye' 'Padania'\n",
      " 'Iraqi Kurdistan' 'Gozo' 'Bonaire' 'Western Sahara' 'Raetia'\n",
      " 'Tamil Eelam' 'South Sudan' 'Abkhazia' 'Artsakh' 'Madrid' 'Vatican City'\n",
      " 'Ellan Vannin' 'South Ossetia' 'Darfur' 'County of Nice' 'Székely Land'\n",
      " 'Romani people' 'Felvidék' 'Chagos Islands' 'United Koreans in Japan'\n",
      " 'Somaliland' 'Western Armenia' 'Barawa' 'Kárpátalja' 'Yorkshire' 'Panjab'\n",
      " 'Matabeleland' 'Cascadia' 'Kabylia' 'Parishes of Jersey' 'Chameria'\n",
      " 'Saint Helena' 'Yoruba Nation' 'Biafra' 'Mapuche' 'Aymara'\n",
      " 'Brunei Darussalam']\n"
     ]
    }
   ],
   "source": [
    "countries=df.home_team.unique()\n",
    "print(f\"There are {len(countries)} Countries in the home_team Column\\n\")\n",
    "print(f\"Countries-{countries}\")"
   ]
  },
  {
   "cell_type": "markdown",
   "id": "d354dbd7",
   "metadata": {},
   "source": [
    "Berdasarkan data tersebut, menunjukan negara yang tercata sebanyak 309 negara yang terlibat dan ada beberapa negara yang sudah tidak ada seperti German Dr ketika German barat dan German timur masih bertikai"
   ]
  },
  {
   "cell_type": "code",
   "execution_count": 13,
   "id": "f0712176",
   "metadata": {},
   "outputs": [
    {
     "data": {
      "image/png": "[encoded data removed]",
      "text/plain": [
       "<Figure size 1008x432 with 1 Axes>"
      ]
     },
     "metadata": {
      "needs_background": "light"
     },
     "output_type": "display_data"
    }
   ],
   "source": [
    "rank_bound = 10\n",
    "ax = df.tournament.value_counts()[:rank_bound].sort_values()\n",
    "value = ax.values\n",
    "label = ax.index\n",
    "\n",
    "plt.figure(figsize=(14,6))\n",
    "plt.barh(y=label, width=value, edgecolor=\"k\")\n",
    "for i in range(rank_bound):\n",
    "    plt.text(x=50,y=i-0.1,s=value[i],color=\"w\",fontsize=12)\n",
    "plt.show()"
   ]
  },
  {
   "cell_type": "markdown",
   "id": "4966e7fc",
   "metadata": {},
   "source": [
    "Berdasarkan data tersebut, pertandingan  persahabatan mendominasi berdasarkan aturan FIFA dalam pemeringkatan negara bahwa pertangdingan persahabatan faktor pengali lebih kecil dibandingkan dengan major tournament dengan merujuk pada [ini](https://id.wikipedia.org/wiki/Peringkat_Dunia_FIFA)"
   ]
  },
  {
   "cell_type": "code",
   "execution_count": 14,
   "id": "f7d992eb",
   "metadata": {},
   "outputs": [
    {
     "data": {
      "image/png": "[encoded data removed]",
      "text/plain": [
       "<Figure size 1008x432 with 1 Axes>"
      ]
     },
     "metadata": {
      "needs_background": "light"
     },
     "output_type": "display_data"
    }
   ],
   "source": [
    "rank_bound = 10\n",
    "ax = df.country.value_counts()[:rank_bound].sort_values()\n",
    "value = ax.values\n",
    "label = ax.index\n",
    "\n",
    "plt.figure(figsize=(14,6))\n",
    "plt.barh(y=label, width=value, edgecolor=\"k\")\n",
    "for i in range(rank_bound):\n",
    "    plt.text(x=10,y=i-0.1,s=value[i],color=\"w\",fontsize=12)\n",
    "plt.show()"
   ]
  },
  {
   "cell_type": "code",
   "execution_count": 15,
   "id": "b68d4ee4",
   "metadata": {},
   "outputs": [
    {
     "data": {
      "image/png": "[encoded data removed]",
      "text/plain": [
       "<Figure size 1008x432 with 1 Axes>"
      ]
     },
     "metadata": {
      "needs_background": "light"
     },
     "output_type": "display_data"
    }
   ],
   "source": [
    "years = []\n",
    "for date in df.date:\n",
    "    years.append(int(str(date)[0:4]))\n",
    "plt.figure(figsize=(14,6))\n",
    "plt.hist(years, density=True, bins=10, edgecolor=\"k\")\n",
    "plt.title(\"Histogram of Years\")\n",
    "plt.ylabel(\"Frequency\")\n",
    "plt.xlabel(\"Year\")\n",
    "plt.show()"
   ]
  },
  {
   "cell_type": "markdown",
   "id": "0a01348d",
   "metadata": {},
   "source": [
    "Setelah tahun 1960, frekuensi pertandingan meningkat tajam dikarenakan beberapa negara yang termasuk dalam region ataupun lainnya mengadakan turnamen skala major jadi berdampak tajam untuk pertandingan tersebut."
   ]
  },
  {
   "cell_type": "code",
   "execution_count": 16,
   "id": "c58c6aaf",
   "metadata": {},
   "outputs": [
    {
     "data": {
      "text/html": [
       "<div>\n",
       "<style scoped>\n",
       "    .dataframe tbody tr th:only-of-type {\n",
       "        vertical-align: middle;\n",
       "    }\n",
       "\n",
       "    .dataframe tbody tr th {\n",
       "        vertical-align: top;\n",
       "    }\n",
       "\n",
       "    .dataframe thead th {\n",
       "        text-align: right;\n",
       "    }\n",
       "</style>\n",
       "<table border=\"1\" class=\"dataframe\">\n",
       "  <thead>\n",
       "    <tr style=\"text-align: right;\">\n",
       "      <th></th>\n",
       "      <th>date</th>\n",
       "      <th>home_team</th>\n",
       "      <th>away_team</th>\n",
       "      <th>home_score</th>\n",
       "      <th>away_score</th>\n",
       "      <th>tournament</th>\n",
       "      <th>city</th>\n",
       "      <th>country</th>\n",
       "      <th>neutral</th>\n",
       "      <th>Keterangan</th>\n",
       "    </tr>\n",
       "  </thead>\n",
       "  <tbody>\n",
       "    <tr>\n",
       "      <th>29</th>\n",
       "      <td>1884-01-26</td>\n",
       "      <td>Northern Ireland</td>\n",
       "      <td>Scotland</td>\n",
       "      <td>0.0</td>\n",
       "      <td>5.0</td>\n",
       "      <td>British Home Championship</td>\n",
       "      <td>Belfast</td>\n",
       "      <td>Ireland</td>\n",
       "      <td>False</td>\n",
       "      <td>Lost</td>\n",
       "    </tr>\n",
       "    <tr>\n",
       "      <th>30</th>\n",
       "      <td>1884-02-09</td>\n",
       "      <td>Wales</td>\n",
       "      <td>Northern Ireland</td>\n",
       "      <td>6.0</td>\n",
       "      <td>0.0</td>\n",
       "      <td>British Home Championship</td>\n",
       "      <td>Wrexham</td>\n",
       "      <td>Wales</td>\n",
       "      <td>False</td>\n",
       "      <td>Win</td>\n",
       "    </tr>\n",
       "    <tr>\n",
       "      <th>31</th>\n",
       "      <td>1884-02-23</td>\n",
       "      <td>Northern Ireland</td>\n",
       "      <td>England</td>\n",
       "      <td>1.0</td>\n",
       "      <td>8.0</td>\n",
       "      <td>British Home Championship</td>\n",
       "      <td>Belfast</td>\n",
       "      <td>Ireland</td>\n",
       "      <td>False</td>\n",
       "      <td>Lost</td>\n",
       "    </tr>\n",
       "    <tr>\n",
       "      <th>32</th>\n",
       "      <td>1884-03-15</td>\n",
       "      <td>Scotland</td>\n",
       "      <td>England</td>\n",
       "      <td>1.0</td>\n",
       "      <td>0.0</td>\n",
       "      <td>British Home Championship</td>\n",
       "      <td>Glasgow</td>\n",
       "      <td>Scotland</td>\n",
       "      <td>False</td>\n",
       "      <td>Win</td>\n",
       "    </tr>\n",
       "    <tr>\n",
       "      <th>33</th>\n",
       "      <td>1884-03-17</td>\n",
       "      <td>Wales</td>\n",
       "      <td>England</td>\n",
       "      <td>0.0</td>\n",
       "      <td>4.0</td>\n",
       "      <td>British Home Championship</td>\n",
       "      <td>Wrexham</td>\n",
       "      <td>Wales</td>\n",
       "      <td>False</td>\n",
       "      <td>Lost</td>\n",
       "    </tr>\n",
       "    <tr>\n",
       "      <th>...</th>\n",
       "      <td>...</td>\n",
       "      <td>...</td>\n",
       "      <td>...</td>\n",
       "      <td>...</td>\n",
       "      <td>...</td>\n",
       "      <td>...</td>\n",
       "      <td>...</td>\n",
       "      <td>...</td>\n",
       "      <td>...</td>\n",
       "      <td>...</td>\n",
       "    </tr>\n",
       "    <tr>\n",
       "      <th>44197</th>\n",
       "      <td>2022-11-30</td>\n",
       "      <td>Tunisia</td>\n",
       "      <td>France</td>\n",
       "      <td>1.0</td>\n",
       "      <td>0.0</td>\n",
       "      <td>FIFA World Cup</td>\n",
       "      <td>Al Rayyan</td>\n",
       "      <td>Qatar</td>\n",
       "      <td>True</td>\n",
       "      <td>Win</td>\n",
       "    </tr>\n",
       "    <tr>\n",
       "      <th>44198</th>\n",
       "      <td>2022-12-01</td>\n",
       "      <td>Japan</td>\n",
       "      <td>Spain</td>\n",
       "      <td>2.0</td>\n",
       "      <td>1.0</td>\n",
       "      <td>FIFA World Cup</td>\n",
       "      <td>Al Rayyan</td>\n",
       "      <td>Qatar</td>\n",
       "      <td>True</td>\n",
       "      <td>Win</td>\n",
       "    </tr>\n",
       "    <tr>\n",
       "      <th>44199</th>\n",
       "      <td>2022-12-01</td>\n",
       "      <td>Costa Rica</td>\n",
       "      <td>Germany</td>\n",
       "      <td>2.0</td>\n",
       "      <td>4.0</td>\n",
       "      <td>FIFA World Cup</td>\n",
       "      <td>Al Khor</td>\n",
       "      <td>Qatar</td>\n",
       "      <td>True</td>\n",
       "      <td>Lost</td>\n",
       "    </tr>\n",
       "    <tr>\n",
       "      <th>44200</th>\n",
       "      <td>2022-12-01</td>\n",
       "      <td>Croatia</td>\n",
       "      <td>Belgium</td>\n",
       "      <td>0.0</td>\n",
       "      <td>0.0</td>\n",
       "      <td>FIFA World Cup</td>\n",
       "      <td>Al Rayyan</td>\n",
       "      <td>Qatar</td>\n",
       "      <td>True</td>\n",
       "      <td>Draw</td>\n",
       "    </tr>\n",
       "    <tr>\n",
       "      <th>44201</th>\n",
       "      <td>2022-12-01</td>\n",
       "      <td>Canada</td>\n",
       "      <td>Morocco</td>\n",
       "      <td>1.0</td>\n",
       "      <td>2.0</td>\n",
       "      <td>FIFA World Cup</td>\n",
       "      <td>Doha</td>\n",
       "      <td>Qatar</td>\n",
       "      <td>True</td>\n",
       "      <td>Lost</td>\n",
       "    </tr>\n",
       "  </tbody>\n",
       "</table>\n",
       "<p>26643 rows × 10 columns</p>\n",
       "</div>"
      ],
      "text/plain": [
       "             date         home_team         away_team  home_score  away_score  \\\n",
       "29     1884-01-26  Northern Ireland          Scotland         0.0         5.0   \n",
       "30     1884-02-09             Wales  Northern Ireland         6.0         0.0   \n",
       "31     1884-02-23  Northern Ireland           England         1.0         8.0   \n",
       "32     1884-03-15          Scotland           England         1.0         0.0   \n",
       "33     1884-03-17             Wales           England         0.0         4.0   \n",
       "...           ...               ...               ...         ...         ...   \n",
       "44197  2022-11-30           Tunisia            France         1.0         0.0   \n",
       "44198  2022-12-01             Japan             Spain         2.0         1.0   \n",
       "44199  2022-12-01        Costa Rica           Germany         2.0         4.0   \n",
       "44200  2022-12-01           Croatia           Belgium         0.0         0.0   \n",
       "44201  2022-12-01            Canada           Morocco         1.0         2.0   \n",
       "\n",
       "                      tournament       city   country  neutral Keterangan  \n",
       "29     British Home Championship    Belfast   Ireland    False       Lost  \n",
       "30     British Home Championship    Wrexham     Wales    False        Win  \n",
       "31     British Home Championship    Belfast   Ireland    False       Lost  \n",
       "32     British Home Championship    Glasgow  Scotland    False        Win  \n",
       "33     British Home Championship    Wrexham     Wales    False       Lost  \n",
       "...                          ...        ...       ...      ...        ...  \n",
       "44197             FIFA World Cup  Al Rayyan     Qatar     True        Win  \n",
       "44198             FIFA World Cup  Al Rayyan     Qatar     True        Win  \n",
       "44199             FIFA World Cup    Al Khor     Qatar     True       Lost  \n",
       "44200             FIFA World Cup  Al Rayyan     Qatar     True       Draw  \n",
       "44201             FIFA World Cup       Doha     Qatar     True       Lost  \n",
       "\n",
       "[26643 rows x 10 columns]"
      ]
     },
     "execution_count": 16,
     "metadata": {},
     "output_type": "execute_result"
    }
   ],
   "source": [
    "data_home=df.loc[df[\"home_team\"]==df[\"country\"] ]\n",
    "data_home=df.loc[df[\"tournament\"] != \"Friendly\"]\n",
    "data_home"
   ]
  },
  {
   "cell_type": "code",
   "execution_count": 19,
   "id": "a3bc6ef4",
   "metadata": {
    "scrolled": true
   },
   "outputs": [
    {
     "data": {
      "text/plain": [
       "Text(0.5, 1.0, 'Home Team Winning Status')"
      ]
     },
     "execution_count": 19,
     "metadata": {},
     "output_type": "execute_result"
    },
    {
     "data": {
      "image/png": "[encoded data removed]",
      "text/plain": [
       "<Figure size 360x360 with 1 Axes>"
      ]
     },
     "metadata": {
      "needs_background": "light"
     },
     "output_type": "display_data"
    }
   ],
   "source": [
    "#Home team results\n",
    "sns.displot(data_home, x=\"Keterangan\")\n",
    "plt.title(\"Home Team Winning Status\")"
   ]
  },
  {
   "cell_type": "markdown",
   "id": "06ef6a05",
   "metadata": {},
   "source": [
    "Berdasarkan ini tim tuan rumah memiliki tingkat kemenangan yang lebih tinggi dibandingkan kekalahan"
   ]
  },
  {
   "cell_type": "code",
   "execution_count": 21,
   "id": "dffd9c41",
   "metadata": {},
   "outputs": [
    {
     "data": {
      "text/plain": [
       "Win     13246\n",
       "Lost     7594\n",
       "Draw     5803\n",
       "Name: Keterangan, dtype: int64"
      ]
     },
     "execution_count": 21,
     "metadata": {},
     "output_type": "execute_result"
    }
   ],
   "source": [
    "data_home['Keterangan'].value_counts()"
   ]
  },
  {
   "cell_type": "code",
   "execution_count": 23,
   "id": "c432340b",
   "metadata": {},
   "outputs": [
    {
     "data": {
      "text/html": [
       "<div>\n",
       "<style scoped>\n",
       "    .dataframe tbody tr th:only-of-type {\n",
       "        vertical-align: middle;\n",
       "    }\n",
       "\n",
       "    .dataframe tbody tr th {\n",
       "        vertical-align: top;\n",
       "    }\n",
       "\n",
       "    .dataframe thead th {\n",
       "        text-align: right;\n",
       "    }\n",
       "</style>\n",
       "<table border=\"1\" class=\"dataframe\">\n",
       "  <thead>\n",
       "    <tr style=\"text-align: right;\">\n",
       "      <th>Keterangan</th>\n",
       "      <th>Draw</th>\n",
       "      <th>Lost</th>\n",
       "      <th>Win</th>\n",
       "      <th>Total</th>\n",
       "      <th>team_win_probability</th>\n",
       "    </tr>\n",
       "    <tr>\n",
       "      <th>home_team</th>\n",
       "      <th></th>\n",
       "      <th></th>\n",
       "      <th></th>\n",
       "      <th></th>\n",
       "      <th></th>\n",
       "    </tr>\n",
       "  </thead>\n",
       "  <tbody>\n",
       "    <tr>\n",
       "      <th>Brazil</th>\n",
       "      <td>110</td>\n",
       "      <td>58</td>\n",
       "      <td>425</td>\n",
       "      <td>593</td>\n",
       "      <td>0.716695</td>\n",
       "    </tr>\n",
       "    <tr>\n",
       "      <th>Spain</th>\n",
       "      <td>71</td>\n",
       "      <td>51</td>\n",
       "      <td>257</td>\n",
       "      <td>379</td>\n",
       "      <td>0.678100</td>\n",
       "    </tr>\n",
       "    <tr>\n",
       "      <th>Argentina</th>\n",
       "      <td>124</td>\n",
       "      <td>69</td>\n",
       "      <td>374</td>\n",
       "      <td>567</td>\n",
       "      <td>0.659612</td>\n",
       "    </tr>\n",
       "    <tr>\n",
       "      <th>Egypt</th>\n",
       "      <td>69</td>\n",
       "      <td>74</td>\n",
       "      <td>260</td>\n",
       "      <td>403</td>\n",
       "      <td>0.645161</td>\n",
       "    </tr>\n",
       "    <tr>\n",
       "      <th>Ivory Coast</th>\n",
       "      <td>67</td>\n",
       "      <td>36</td>\n",
       "      <td>183</td>\n",
       "      <td>286</td>\n",
       "      <td>0.639860</td>\n",
       "    </tr>\n",
       "    <tr>\n",
       "      <th>Nigeria</th>\n",
       "      <td>69</td>\n",
       "      <td>36</td>\n",
       "      <td>184</td>\n",
       "      <td>289</td>\n",
       "      <td>0.636678</td>\n",
       "    </tr>\n",
       "    <tr>\n",
       "      <th>Iran</th>\n",
       "      <td>63</td>\n",
       "      <td>45</td>\n",
       "      <td>185</td>\n",
       "      <td>293</td>\n",
       "      <td>0.631399</td>\n",
       "    </tr>\n",
       "    <tr>\n",
       "      <th>Italy</th>\n",
       "      <td>123</td>\n",
       "      <td>52</td>\n",
       "      <td>291</td>\n",
       "      <td>466</td>\n",
       "      <td>0.624464</td>\n",
       "    </tr>\n",
       "    <tr>\n",
       "      <th>Germany</th>\n",
       "      <td>112</td>\n",
       "      <td>87</td>\n",
       "      <td>327</td>\n",
       "      <td>526</td>\n",
       "      <td>0.621673</td>\n",
       "    </tr>\n",
       "    <tr>\n",
       "      <th>England</th>\n",
       "      <td>115</td>\n",
       "      <td>83</td>\n",
       "      <td>325</td>\n",
       "      <td>523</td>\n",
       "      <td>0.621415</td>\n",
       "    </tr>\n",
       "    <tr>\n",
       "      <th>Morocco</th>\n",
       "      <td>71</td>\n",
       "      <td>47</td>\n",
       "      <td>193</td>\n",
       "      <td>311</td>\n",
       "      <td>0.620579</td>\n",
       "    </tr>\n",
       "    <tr>\n",
       "      <th>Ghana</th>\n",
       "      <td>74</td>\n",
       "      <td>40</td>\n",
       "      <td>186</td>\n",
       "      <td>300</td>\n",
       "      <td>0.620000</td>\n",
       "    </tr>\n",
       "    <tr>\n",
       "      <th>Russia</th>\n",
       "      <td>71</td>\n",
       "      <td>50</td>\n",
       "      <td>190</td>\n",
       "      <td>311</td>\n",
       "      <td>0.610932</td>\n",
       "    </tr>\n",
       "    <tr>\n",
       "      <th>Costa Rica</th>\n",
       "      <td>78</td>\n",
       "      <td>53</td>\n",
       "      <td>195</td>\n",
       "      <td>326</td>\n",
       "      <td>0.598160</td>\n",
       "    </tr>\n",
       "    <tr>\n",
       "      <th>South Korea</th>\n",
       "      <td>118</td>\n",
       "      <td>84</td>\n",
       "      <td>295</td>\n",
       "      <td>497</td>\n",
       "      <td>0.593561</td>\n",
       "    </tr>\n",
       "    <tr>\n",
       "      <th>Sweden</th>\n",
       "      <td>106</td>\n",
       "      <td>104</td>\n",
       "      <td>296</td>\n",
       "      <td>506</td>\n",
       "      <td>0.584980</td>\n",
       "    </tr>\n",
       "    <tr>\n",
       "      <th>Mexico</th>\n",
       "      <td>125</td>\n",
       "      <td>104</td>\n",
       "      <td>320</td>\n",
       "      <td>549</td>\n",
       "      <td>0.582878</td>\n",
       "    </tr>\n",
       "    <tr>\n",
       "      <th>Portugal</th>\n",
       "      <td>85</td>\n",
       "      <td>59</td>\n",
       "      <td>200</td>\n",
       "      <td>344</td>\n",
       "      <td>0.581395</td>\n",
       "    </tr>\n",
       "    <tr>\n",
       "      <th>France</th>\n",
       "      <td>102</td>\n",
       "      <td>109</td>\n",
       "      <td>292</td>\n",
       "      <td>503</td>\n",
       "      <td>0.580517</td>\n",
       "    </tr>\n",
       "    <tr>\n",
       "      <th>Netherlands</th>\n",
       "      <td>103</td>\n",
       "      <td>84</td>\n",
       "      <td>252</td>\n",
       "      <td>439</td>\n",
       "      <td>0.574032</td>\n",
       "    </tr>\n",
       "  </tbody>\n",
       "</table>\n",
       "</div>"
      ],
      "text/plain": [
       "Keterangan   Draw  Lost  Win  Total  team_win_probability\n",
       "home_team                                                \n",
       "Brazil        110    58  425    593              0.716695\n",
       "Spain          71    51  257    379              0.678100\n",
       "Argentina     124    69  374    567              0.659612\n",
       "Egypt          69    74  260    403              0.645161\n",
       "Ivory Coast    67    36  183    286              0.639860\n",
       "Nigeria        69    36  184    289              0.636678\n",
       "Iran           63    45  185    293              0.631399\n",
       "Italy         123    52  291    466              0.624464\n",
       "Germany       112    87  327    526              0.621673\n",
       "England       115    83  325    523              0.621415\n",
       "Morocco        71    47  193    311              0.620579\n",
       "Ghana          74    40  186    300              0.620000\n",
       "Russia         71    50  190    311              0.610932\n",
       "Costa Rica     78    53  195    326              0.598160\n",
       "South Korea   118    84  295    497              0.593561\n",
       "Sweden        106   104  296    506              0.584980\n",
       "Mexico        125   104  320    549              0.582878\n",
       "Portugal       85    59  200    344              0.581395\n",
       "France        102   109  292    503              0.580517\n",
       "Netherlands   103    84  252    439              0.574032"
      ]
     },
     "execution_count": 23,
     "metadata": {},
     "output_type": "execute_result"
    }
   ],
   "source": [
    "teams_win_statues=pd.crosstab(df[\"home_team\"], \n",
    "                              df[\"Keterangan\"],\n",
    "                              margins=True, \n",
    "                              margins_name=\"Total\")\n",
    "teams_win_statues[\"team_win_probability\"]=teams_win_statues[\"Win\"]/(teams_win_statues[\"Total\"])\n",
    "\n",
    "#mencari total match home > 250 dengan rasio win tertinggi pada setiap negara\n",
    "teams_win_statues_100=teams_win_statues.loc[teams_win_statues[\"Total\"]>250]\n",
    "teams_win_statues_100=teams_win_statues_100.sort_values(\"team_win_probability\",ascending=False)\n",
    "teams_win_statues_100.head(20)"
   ]
  },
  {
   "cell_type": "code",
   "execution_count": 25,
   "id": "3c7fd597",
   "metadata": {},
   "outputs": [
    {
     "data": {
      "text/html": [
       "<div>\n",
       "<style scoped>\n",
       "    .dataframe tbody tr th:only-of-type {\n",
       "        vertical-align: middle;\n",
       "    }\n",
       "\n",
       "    .dataframe tbody tr th {\n",
       "        vertical-align: top;\n",
       "    }\n",
       "\n",
       "    .dataframe thead th {\n",
       "        text-align: right;\n",
       "    }\n",
       "</style>\n",
       "<table border=\"1\" class=\"dataframe\">\n",
       "  <thead>\n",
       "    <tr style=\"text-align: right;\">\n",
       "      <th>Keterangan</th>\n",
       "      <th>Draw</th>\n",
       "      <th>Win</th>\n",
       "      <th>Lost</th>\n",
       "      <th>Total</th>\n",
       "      <th>team_win_probability</th>\n",
       "    </tr>\n",
       "    <tr>\n",
       "      <th>away_team</th>\n",
       "      <th></th>\n",
       "      <th></th>\n",
       "      <th></th>\n",
       "      <th></th>\n",
       "      <th></th>\n",
       "    </tr>\n",
       "  </thead>\n",
       "  <tbody>\n",
       "    <tr>\n",
       "      <th>Germany</th>\n",
       "      <td>94</td>\n",
       "      <td>247</td>\n",
       "      <td>119</td>\n",
       "      <td>460</td>\n",
       "      <td>0.536957</td>\n",
       "    </tr>\n",
       "    <tr>\n",
       "      <th>Brazil</th>\n",
       "      <td>95</td>\n",
       "      <td>228</td>\n",
       "      <td>102</td>\n",
       "      <td>425</td>\n",
       "      <td>0.536471</td>\n",
       "    </tr>\n",
       "    <tr>\n",
       "      <th>England</th>\n",
       "      <td>136</td>\n",
       "      <td>271</td>\n",
       "      <td>117</td>\n",
       "      <td>524</td>\n",
       "      <td>0.517176</td>\n",
       "    </tr>\n",
       "    <tr>\n",
       "      <th>Spain</th>\n",
       "      <td>100</td>\n",
       "      <td>169</td>\n",
       "      <td>84</td>\n",
       "      <td>353</td>\n",
       "      <td>0.478754</td>\n",
       "    </tr>\n",
       "    <tr>\n",
       "      <th>South Korea</th>\n",
       "      <td>115</td>\n",
       "      <td>181</td>\n",
       "      <td>109</td>\n",
       "      <td>405</td>\n",
       "      <td>0.446914</td>\n",
       "    </tr>\n",
       "    <tr>\n",
       "      <th>Netherlands</th>\n",
       "      <td>83</td>\n",
       "      <td>169</td>\n",
       "      <td>129</td>\n",
       "      <td>381</td>\n",
       "      <td>0.443570</td>\n",
       "    </tr>\n",
       "    <tr>\n",
       "      <th>Russia</th>\n",
       "      <td>118</td>\n",
       "      <td>176</td>\n",
       "      <td>113</td>\n",
       "      <td>407</td>\n",
       "      <td>0.432432</td>\n",
       "    </tr>\n",
       "    <tr>\n",
       "      <th>Japan</th>\n",
       "      <td>57</td>\n",
       "      <td>117</td>\n",
       "      <td>103</td>\n",
       "      <td>277</td>\n",
       "      <td>0.422383</td>\n",
       "    </tr>\n",
       "    <tr>\n",
       "      <th>Italy</th>\n",
       "      <td>112</td>\n",
       "      <td>154</td>\n",
       "      <td>106</td>\n",
       "      <td>372</td>\n",
       "      <td>0.413978</td>\n",
       "    </tr>\n",
       "    <tr>\n",
       "      <th>Sweden</th>\n",
       "      <td>121</td>\n",
       "      <td>222</td>\n",
       "      <td>204</td>\n",
       "      <td>547</td>\n",
       "      <td>0.405850</td>\n",
       "    </tr>\n",
       "    <tr>\n",
       "      <th>Yugoslavia</th>\n",
       "      <td>61</td>\n",
       "      <td>115</td>\n",
       "      <td>115</td>\n",
       "      <td>291</td>\n",
       "      <td>0.395189</td>\n",
       "    </tr>\n",
       "    <tr>\n",
       "      <th>Mexico</th>\n",
       "      <td>89</td>\n",
       "      <td>148</td>\n",
       "      <td>140</td>\n",
       "      <td>377</td>\n",
       "      <td>0.392573</td>\n",
       "    </tr>\n",
       "    <tr>\n",
       "      <th>France</th>\n",
       "      <td>85</td>\n",
       "      <td>146</td>\n",
       "      <td>141</td>\n",
       "      <td>372</td>\n",
       "      <td>0.392473</td>\n",
       "    </tr>\n",
       "    <tr>\n",
       "      <th>Argentina</th>\n",
       "      <td>127</td>\n",
       "      <td>175</td>\n",
       "      <td>145</td>\n",
       "      <td>447</td>\n",
       "      <td>0.391499</td>\n",
       "    </tr>\n",
       "    <tr>\n",
       "      <th>Portugal</th>\n",
       "      <td>66</td>\n",
       "      <td>118</td>\n",
       "      <td>120</td>\n",
       "      <td>304</td>\n",
       "      <td>0.388158</td>\n",
       "    </tr>\n",
       "    <tr>\n",
       "      <th>Scotland</th>\n",
       "      <td>92</td>\n",
       "      <td>162</td>\n",
       "      <td>164</td>\n",
       "      <td>418</td>\n",
       "      <td>0.387560</td>\n",
       "    </tr>\n",
       "    <tr>\n",
       "      <th>Zambia</th>\n",
       "      <td>108</td>\n",
       "      <td>170</td>\n",
       "      <td>167</td>\n",
       "      <td>445</td>\n",
       "      <td>0.382022</td>\n",
       "    </tr>\n",
       "    <tr>\n",
       "      <th>Hungary</th>\n",
       "      <td>107</td>\n",
       "      <td>187</td>\n",
       "      <td>197</td>\n",
       "      <td>491</td>\n",
       "      <td>0.380855</td>\n",
       "    </tr>\n",
       "    <tr>\n",
       "      <th>Denmark</th>\n",
       "      <td>88</td>\n",
       "      <td>149</td>\n",
       "      <td>172</td>\n",
       "      <td>409</td>\n",
       "      <td>0.364303</td>\n",
       "    </tr>\n",
       "    <tr>\n",
       "      <th>Ivory Coast</th>\n",
       "      <td>84</td>\n",
       "      <td>110</td>\n",
       "      <td>109</td>\n",
       "      <td>303</td>\n",
       "      <td>0.363036</td>\n",
       "    </tr>\n",
       "  </tbody>\n",
       "</table>\n",
       "</div>"
      ],
      "text/plain": [
       "Keterangan   Draw  Win  Lost  Total  team_win_probability\n",
       "away_team                                                \n",
       "Germany        94  247   119    460              0.536957\n",
       "Brazil         95  228   102    425              0.536471\n",
       "England       136  271   117    524              0.517176\n",
       "Spain         100  169    84    353              0.478754\n",
       "South Korea   115  181   109    405              0.446914\n",
       "Netherlands    83  169   129    381              0.443570\n",
       "Russia        118  176   113    407              0.432432\n",
       "Japan          57  117   103    277              0.422383\n",
       "Italy         112  154   106    372              0.413978\n",
       "Sweden        121  222   204    547              0.405850\n",
       "Yugoslavia     61  115   115    291              0.395189\n",
       "Mexico         89  148   140    377              0.392573\n",
       "France         85  146   141    372              0.392473\n",
       "Argentina     127  175   145    447              0.391499\n",
       "Portugal       66  118   120    304              0.388158\n",
       "Scotland       92  162   164    418              0.387560\n",
       "Zambia        108  170   167    445              0.382022\n",
       "Hungary       107  187   197    491              0.380855\n",
       "Denmark        88  149   172    409              0.364303\n",
       "Ivory Coast    84  110   109    303              0.363036"
      ]
     },
     "execution_count": 25,
     "metadata": {},
     "output_type": "execute_result"
    }
   ],
   "source": [
    "teams_away_statues=pd.crosstab(df[\"away_team\"], \n",
    "                               df[\"Keterangan\"],\n",
    "                               margins=True, \n",
    "                               margins_name=\"Total\")\n",
    "teams_away_statues[\"team_win_probability\"]=teams_away_statues[\"Lost\"]/(teams_away_statues[\"Total\"])\n",
    "\n",
    "#mencari total match away > 250 dengan rasio win tertinggi pada setiap negara\n",
    "teams_away_statues_100=teams_away_statues.loc[teams_away_statues[\"Total\"]>250]\n",
    "teams_away_statues_100=teams_away_statues_100.sort_values(\"team_win_probability\",ascending=False)\n",
    "\n",
    "teams_away_statues_100.rename(columns={'Lost': 'Win', 'Win' : 'Lost'}, \n",
    "                              index={'Win': 'Lost'}, \n",
    "                              inplace=True)\n",
    "teams_away_statues_100.head(20)"
   ]
  },
  {
   "cell_type": "markdown",
   "id": "bf52da82",
   "metadata": {},
   "source": [
    "Membuat ML model untuk memprediksi suatu match berdasarkan data home & away score team (1872-2022)"
   ]
  },
  {
   "cell_type": "code",
   "execution_count": 26,
   "id": "98f75744",
   "metadata": {},
   "outputs": [
    {
     "data": {
      "text/html": [
       "<div>\n",
       "<style scoped>\n",
       "    .dataframe tbody tr th:only-of-type {\n",
       "        vertical-align: middle;\n",
       "    }\n",
       "\n",
       "    .dataframe tbody tr th {\n",
       "        vertical-align: top;\n",
       "    }\n",
       "\n",
       "    .dataframe thead th {\n",
       "        text-align: right;\n",
       "    }\n",
       "</style>\n",
       "<table border=\"1\" class=\"dataframe\">\n",
       "  <thead>\n",
       "    <tr style=\"text-align: right;\">\n",
       "      <th></th>\n",
       "      <th>date</th>\n",
       "      <th>home_team</th>\n",
       "      <th>away_team</th>\n",
       "      <th>home_score</th>\n",
       "      <th>away_score</th>\n",
       "      <th>tournament</th>\n",
       "      <th>city</th>\n",
       "      <th>country</th>\n",
       "      <th>neutral</th>\n",
       "      <th>Keterangan</th>\n",
       "    </tr>\n",
       "  </thead>\n",
       "  <tbody>\n",
       "    <tr>\n",
       "      <th>0</th>\n",
       "      <td>1872-11-30</td>\n",
       "      <td>Scotland</td>\n",
       "      <td>England</td>\n",
       "      <td>0.0</td>\n",
       "      <td>0.0</td>\n",
       "      <td>Friendly</td>\n",
       "      <td>Glasgow</td>\n",
       "      <td>Scotland</td>\n",
       "      <td>False</td>\n",
       "      <td>Draw</td>\n",
       "    </tr>\n",
       "    <tr>\n",
       "      <th>1</th>\n",
       "      <td>1873-03-08</td>\n",
       "      <td>England</td>\n",
       "      <td>Scotland</td>\n",
       "      <td>4.0</td>\n",
       "      <td>2.0</td>\n",
       "      <td>Friendly</td>\n",
       "      <td>London</td>\n",
       "      <td>England</td>\n",
       "      <td>False</td>\n",
       "      <td>Win</td>\n",
       "    </tr>\n",
       "    <tr>\n",
       "      <th>2</th>\n",
       "      <td>1874-03-07</td>\n",
       "      <td>Scotland</td>\n",
       "      <td>England</td>\n",
       "      <td>2.0</td>\n",
       "      <td>1.0</td>\n",
       "      <td>Friendly</td>\n",
       "      <td>Glasgow</td>\n",
       "      <td>Scotland</td>\n",
       "      <td>False</td>\n",
       "      <td>Win</td>\n",
       "    </tr>\n",
       "    <tr>\n",
       "      <th>3</th>\n",
       "      <td>1875-03-06</td>\n",
       "      <td>England</td>\n",
       "      <td>Scotland</td>\n",
       "      <td>2.0</td>\n",
       "      <td>2.0</td>\n",
       "      <td>Friendly</td>\n",
       "      <td>London</td>\n",
       "      <td>England</td>\n",
       "      <td>False</td>\n",
       "      <td>Draw</td>\n",
       "    </tr>\n",
       "    <tr>\n",
       "      <th>4</th>\n",
       "      <td>1876-03-04</td>\n",
       "      <td>Scotland</td>\n",
       "      <td>England</td>\n",
       "      <td>3.0</td>\n",
       "      <td>0.0</td>\n",
       "      <td>Friendly</td>\n",
       "      <td>Glasgow</td>\n",
       "      <td>Scotland</td>\n",
       "      <td>False</td>\n",
       "      <td>Win</td>\n",
       "    </tr>\n",
       "    <tr>\n",
       "      <th>5</th>\n",
       "      <td>1876-03-25</td>\n",
       "      <td>Scotland</td>\n",
       "      <td>Wales</td>\n",
       "      <td>4.0</td>\n",
       "      <td>0.0</td>\n",
       "      <td>Friendly</td>\n",
       "      <td>Glasgow</td>\n",
       "      <td>Scotland</td>\n",
       "      <td>False</td>\n",
       "      <td>Win</td>\n",
       "    </tr>\n",
       "    <tr>\n",
       "      <th>6</th>\n",
       "      <td>1877-03-03</td>\n",
       "      <td>England</td>\n",
       "      <td>Scotland</td>\n",
       "      <td>1.0</td>\n",
       "      <td>3.0</td>\n",
       "      <td>Friendly</td>\n",
       "      <td>London</td>\n",
       "      <td>England</td>\n",
       "      <td>False</td>\n",
       "      <td>Lost</td>\n",
       "    </tr>\n",
       "    <tr>\n",
       "      <th>7</th>\n",
       "      <td>1877-03-05</td>\n",
       "      <td>Wales</td>\n",
       "      <td>Scotland</td>\n",
       "      <td>0.0</td>\n",
       "      <td>2.0</td>\n",
       "      <td>Friendly</td>\n",
       "      <td>Wrexham</td>\n",
       "      <td>Wales</td>\n",
       "      <td>False</td>\n",
       "      <td>Lost</td>\n",
       "    </tr>\n",
       "    <tr>\n",
       "      <th>8</th>\n",
       "      <td>1878-03-02</td>\n",
       "      <td>Scotland</td>\n",
       "      <td>England</td>\n",
       "      <td>7.0</td>\n",
       "      <td>2.0</td>\n",
       "      <td>Friendly</td>\n",
       "      <td>Glasgow</td>\n",
       "      <td>Scotland</td>\n",
       "      <td>False</td>\n",
       "      <td>Win</td>\n",
       "    </tr>\n",
       "    <tr>\n",
       "      <th>9</th>\n",
       "      <td>1878-03-23</td>\n",
       "      <td>Scotland</td>\n",
       "      <td>Wales</td>\n",
       "      <td>9.0</td>\n",
       "      <td>0.0</td>\n",
       "      <td>Friendly</td>\n",
       "      <td>Glasgow</td>\n",
       "      <td>Scotland</td>\n",
       "      <td>False</td>\n",
       "      <td>Win</td>\n",
       "    </tr>\n",
       "  </tbody>\n",
       "</table>\n",
       "</div>"
      ],
      "text/plain": [
       "         date home_team away_team  home_score  away_score tournament     city  \\\n",
       "0  1872-11-30  Scotland   England         0.0         0.0   Friendly  Glasgow   \n",
       "1  1873-03-08   England  Scotland         4.0         2.0   Friendly   London   \n",
       "2  1874-03-07  Scotland   England         2.0         1.0   Friendly  Glasgow   \n",
       "3  1875-03-06   England  Scotland         2.0         2.0   Friendly   London   \n",
       "4  1876-03-04  Scotland   England         3.0         0.0   Friendly  Glasgow   \n",
       "5  1876-03-25  Scotland     Wales         4.0         0.0   Friendly  Glasgow   \n",
       "6  1877-03-03   England  Scotland         1.0         3.0   Friendly   London   \n",
       "7  1877-03-05     Wales  Scotland         0.0         2.0   Friendly  Wrexham   \n",
       "8  1878-03-02  Scotland   England         7.0         2.0   Friendly  Glasgow   \n",
       "9  1878-03-23  Scotland     Wales         9.0         0.0   Friendly  Glasgow   \n",
       "\n",
       "    country  neutral Keterangan  \n",
       "0  Scotland    False       Draw  \n",
       "1   England    False        Win  \n",
       "2  Scotland    False        Win  \n",
       "3   England    False       Draw  \n",
       "4  Scotland    False        Win  \n",
       "5  Scotland    False        Win  \n",
       "6   England    False       Lost  \n",
       "7     Wales    False       Lost  \n",
       "8  Scotland    False        Win  \n",
       "9  Scotland    False        Win  "
      ]
     },
     "execution_count": 26,
     "metadata": {},
     "output_type": "execute_result"
    }
   ],
   "source": [
    "df_match = df.copy()\n",
    "df_match.head(10)"
   ]
  },
  {
   "cell_type": "code",
   "execution_count": 27,
   "id": "2fa074f3",
   "metadata": {},
   "outputs": [
    {
     "data": {
      "text/html": [
       "<div>\n",
       "<style scoped>\n",
       "    .dataframe tbody tr th:only-of-type {\n",
       "        vertical-align: middle;\n",
       "    }\n",
       "\n",
       "    .dataframe tbody tr th {\n",
       "        vertical-align: top;\n",
       "    }\n",
       "\n",
       "    .dataframe thead th {\n",
       "        text-align: right;\n",
       "    }\n",
       "</style>\n",
       "<table border=\"1\" class=\"dataframe\">\n",
       "  <thead>\n",
       "    <tr style=\"text-align: right;\">\n",
       "      <th></th>\n",
       "      <th>year</th>\n",
       "      <th>Country</th>\n",
       "      <th>team_1</th>\n",
       "      <th>team_2</th>\n",
       "      <th>team_1_score</th>\n",
       "      <th>team_2_score</th>\n",
       "    </tr>\n",
       "  </thead>\n",
       "  <tbody>\n",
       "    <tr>\n",
       "      <th>0</th>\n",
       "      <td>2001</td>\n",
       "      <td>Rwanda</td>\n",
       "      <td>Ethiopia</td>\n",
       "      <td>Kenya</td>\n",
       "      <td>2.0</td>\n",
       "      <td>1.0</td>\n",
       "    </tr>\n",
       "    <tr>\n",
       "      <th>1</th>\n",
       "      <td>1953</td>\n",
       "      <td>Haiti</td>\n",
       "      <td>Haiti</td>\n",
       "      <td>Jamaica</td>\n",
       "      <td>4.0</td>\n",
       "      <td>1.0</td>\n",
       "    </tr>\n",
       "    <tr>\n",
       "      <th>2</th>\n",
       "      <td>1993</td>\n",
       "      <td>Japan</td>\n",
       "      <td>Sri Lanka</td>\n",
       "      <td>Thailand</td>\n",
       "      <td>0.0</td>\n",
       "      <td>1.0</td>\n",
       "    </tr>\n",
       "    <tr>\n",
       "      <th>3</th>\n",
       "      <td>2013</td>\n",
       "      <td>Moldova</td>\n",
       "      <td>Moldova</td>\n",
       "      <td>Montenegro</td>\n",
       "      <td>0.0</td>\n",
       "      <td>1.0</td>\n",
       "    </tr>\n",
       "    <tr>\n",
       "      <th>4</th>\n",
       "      <td>1960</td>\n",
       "      <td>Switzerland</td>\n",
       "      <td>Chile</td>\n",
       "      <td>Switzerland</td>\n",
       "      <td>2.0</td>\n",
       "      <td>4.0</td>\n",
       "    </tr>\n",
       "  </tbody>\n",
       "</table>\n",
       "</div>"
      ],
      "text/plain": [
       "   year      Country     team_1       team_2  team_1_score  team_2_score\n",
       "0  2001       Rwanda   Ethiopia        Kenya           2.0           1.0\n",
       "1  1953        Haiti      Haiti      Jamaica           4.0           1.0\n",
       "2  1993        Japan  Sri Lanka     Thailand           0.0           1.0\n",
       "3  2013      Moldova    Moldova   Montenegro           0.0           1.0\n",
       "4  1960  Switzerland      Chile  Switzerland           2.0           4.0"
      ]
     },
     "execution_count": 27,
     "metadata": {},
     "output_type": "execute_result"
    }
   ],
   "source": [
    "New_Dataset_part_1=pd.DataFrame(list(zip(years,df_match.values[:,7],\n",
    "                                         df_match.values[:,1],\n",
    "                                         df_match.values[:,2],\n",
    "                                         df_match.values[:,3],\n",
    "                                         df_match.values[:,4])),\n",
    "                                columns=[\"year\",\"Country\",\"team_1\",\n",
    "                                         \"team_2\",\"team_1_score\",\"team_2_score\"])\n",
    "#Buat dataset kedua yang berdasarkan hasil skor\n",
    "New_Dataset_part_2=pd.DataFrame(list(zip(years,\n",
    "                                         df_match.values[:,7],df_match.values[:,2],\n",
    "                                         df_match.values[:,1],df_match.values[:,4],\n",
    "                                         df_match.values[:,3])),\n",
    "                                columns=[\"year\",\"Country\",\"team_1\",\"team_2\",\"team_1_score\",\"team_2_score\"])\n",
    "New_Dataset=pd.concat([New_Dataset_part_1,New_Dataset_part_2],axis=0)\n",
    "New_Dataset =New_Dataset.sample(frac=1).reset_index(drop=True) #Shaffling the dataset\n",
    "New_Dataset.head(5)"
   ]
  },
  {
   "cell_type": "code",
   "execution_count": 28,
   "id": "81bcdd56",
   "metadata": {},
   "outputs": [
    {
     "data": {
      "text/plain": [
       "350"
      ]
     },
     "execution_count": 28,
     "metadata": {},
     "output_type": "execute_result"
    }
   ],
   "source": [
    "teams_1=New_Dataset.team_1.unique()\n",
    "contries=New_Dataset.Country.unique()\n",
    "all_countries=np.unique(np.concatenate((teams_1,contries), axis=0))\n",
    "len(all_countries)"
   ]
  },
  {
   "cell_type": "code",
   "execution_count": 31,
   "id": "c6dda0d8",
   "metadata": {},
   "outputs": [
    {
     "data": {
      "text/html": [
       "<div>\n",
       "<style scoped>\n",
       "    .dataframe tbody tr th:only-of-type {\n",
       "        vertical-align: middle;\n",
       "    }\n",
       "\n",
       "    .dataframe tbody tr th {\n",
       "        vertical-align: top;\n",
       "    }\n",
       "\n",
       "    .dataframe thead th {\n",
       "        text-align: right;\n",
       "    }\n",
       "</style>\n",
       "<table border=\"1\" class=\"dataframe\">\n",
       "  <thead>\n",
       "    <tr style=\"text-align: right;\">\n",
       "      <th></th>\n",
       "      <th>year</th>\n",
       "      <th>team_1_score</th>\n",
       "      <th>team_2_score</th>\n",
       "    </tr>\n",
       "  </thead>\n",
       "  <tbody>\n",
       "    <tr>\n",
       "      <th>year</th>\n",
       "      <td>1.00000</td>\n",
       "      <td>-0.126340</td>\n",
       "      <td>-0.126340</td>\n",
       "    </tr>\n",
       "    <tr>\n",
       "      <th>team_1_score</th>\n",
       "      <td>-0.12634</td>\n",
       "      <td>1.000000</td>\n",
       "      <td>-0.161794</td>\n",
       "    </tr>\n",
       "    <tr>\n",
       "      <th>team_2_score</th>\n",
       "      <td>-0.12634</td>\n",
       "      <td>-0.161794</td>\n",
       "      <td>1.000000</td>\n",
       "    </tr>\n",
       "  </tbody>\n",
       "</table>\n",
       "</div>"
      ],
      "text/plain": [
       "                 year  team_1_score  team_2_score\n",
       "year          1.00000     -0.126340     -0.126340\n",
       "team_1_score -0.12634      1.000000     -0.161794\n",
       "team_2_score -0.12634     -0.161794      1.000000"
      ]
     },
     "execution_count": 31,
     "metadata": {},
     "output_type": "execute_result"
    },
    {
     "data": {
      "image/png": "[encoded data removed]",
      "text/plain": [
       "<Figure size 432x288 with 2 Axes>"
      ]
     },
     "metadata": {
      "needs_background": "light"
     },
     "output_type": "display_data"
    }
   ],
   "source": [
    "sns.heatmap(New_Dataset.corr(),cmap='coolwarm', annot=True, fmt='.1f', linewidths=.1)\n",
    "New_Dataset.corr()"
   ]
  },
  {
   "cell_type": "markdown",
   "id": "b0f80e32",
   "metadata": {},
   "source": [
    "Melihat korelasi dari heatmap menunjukan korelasi sedikit kuat untuk dipertimbangkan target output berdasakrn skor home (team 1) dengan away (team 2)"
   ]
  },
  {
   "cell_type": "markdown",
   "id": "c6bc1a31",
   "metadata": {},
   "source": [
    "# Membuat model ML"
   ]
  },
  {
   "cell_type": "markdown",
   "id": "96ebcf4a",
   "metadata": {},
   "source": [
    "# Preprocessing dengan melabeli dataset"
   ]
  },
  {
   "cell_type": "code",
   "execution_count": 46,
   "id": "cab0e2bf",
   "metadata": {},
   "outputs": [],
   "source": [
    "# Defining the features and labels(Targets)\n",
    "\n",
    "Y= New_Dataset.iloc[:,4:6] #Training targets (team_1_score and team_2_score)\n",
    "categorized_data=New_Dataset.iloc[:,0:4].copy() #Traing features\n",
    "\n",
    "from sklearn import preprocessing\n",
    "label_encoder = preprocessing.LabelEncoder()\n",
    "\n",
    "#Labeling the data using LabelEncorder in Sklearn-(Giving a unique number to each string(country))\n",
    "\n",
    "label_encoder.fit(all_countries)\n",
    "#list(label_encoder.classes_)\n",
    "categorized_data['team_1']=label_encoder.transform(categorized_data['team_1'])\n",
    "categorized_data['team_2']=label_encoder.transform(categorized_data['team_2'])\n",
    "categorized_data['Country']=label_encoder.transform(categorized_data['Country'])\n",
    "\n",
    "#Converting these feature columns to categrize form to make the training processs more smoother\n",
    "categorized_data['team_1']=categorized_data['team_1'].astype(\"category\")\n",
    "categorized_data['team_2']=categorized_data['team_2'].astype(\"category\")\n",
    "categorized_data['Country']=categorized_data['team_2'].astype(\"category\")"
   ]
  },
  {
   "cell_type": "code",
   "execution_count": 35,
   "id": "6e30078e",
   "metadata": {},
   "outputs": [
    {
     "data": {
      "text/html": [
       "<div>\n",
       "<style scoped>\n",
       "    .dataframe tbody tr th:only-of-type {\n",
       "        vertical-align: middle;\n",
       "    }\n",
       "\n",
       "    .dataframe tbody tr th {\n",
       "        vertical-align: top;\n",
       "    }\n",
       "\n",
       "    .dataframe thead th {\n",
       "        text-align: right;\n",
       "    }\n",
       "</style>\n",
       "<table border=\"1\" class=\"dataframe\">\n",
       "  <thead>\n",
       "    <tr style=\"text-align: right;\">\n",
       "      <th></th>\n",
       "      <th>year</th>\n",
       "      <th>Country</th>\n",
       "      <th>team_1</th>\n",
       "      <th>team_2</th>\n",
       "    </tr>\n",
       "  </thead>\n",
       "  <tbody>\n",
       "    <tr>\n",
       "      <th>0</th>\n",
       "      <td>2001</td>\n",
       "      <td>155</td>\n",
       "      <td>98</td>\n",
       "      <td>155</td>\n",
       "    </tr>\n",
       "    <tr>\n",
       "      <th>1</th>\n",
       "      <td>1953</td>\n",
       "      <td>149</td>\n",
       "      <td>131</td>\n",
       "      <td>149</td>\n",
       "    </tr>\n",
       "    <tr>\n",
       "      <th>2</th>\n",
       "      <td>1993</td>\n",
       "      <td>302</td>\n",
       "      <td>286</td>\n",
       "      <td>302</td>\n",
       "    </tr>\n",
       "    <tr>\n",
       "      <th>3</th>\n",
       "      <td>2013</td>\n",
       "      <td>197</td>\n",
       "      <td>194</td>\n",
       "      <td>197</td>\n",
       "    </tr>\n",
       "    <tr>\n",
       "      <th>4</th>\n",
       "      <td>1960</td>\n",
       "      <td>291</td>\n",
       "      <td>65</td>\n",
       "      <td>291</td>\n",
       "    </tr>\n",
       "  </tbody>\n",
       "</table>\n",
       "</div>"
      ],
      "text/plain": [
       "   year Country team_1 team_2\n",
       "0  2001     155     98    155\n",
       "1  1953     149    131    149\n",
       "2  1993     302    286    302\n",
       "3  2013     197    194    197\n",
       "4  1960     291     65    291"
      ]
     },
     "execution_count": 35,
     "metadata": {},
     "output_type": "execute_result"
    }
   ],
   "source": [
    "#Input Fatures to the model (x)\n",
    "\n",
    "categorized_data.head(5)"
   ]
  },
  {
   "cell_type": "code",
   "execution_count": 36,
   "id": "a49e99f5",
   "metadata": {},
   "outputs": [
    {
     "data": {
      "text/plain": [
       "88302"
      ]
     },
     "execution_count": 36,
     "metadata": {},
     "output_type": "execute_result"
    }
   ],
   "source": [
    "len(categorized_data)"
   ]
  },
  {
   "cell_type": "code",
   "execution_count": 37,
   "id": "9ff21abe",
   "metadata": {},
   "outputs": [
    {
     "data": {
      "text/html": [
       "<div>\n",
       "<style scoped>\n",
       "    .dataframe tbody tr th:only-of-type {\n",
       "        vertical-align: middle;\n",
       "    }\n",
       "\n",
       "    .dataframe tbody tr th {\n",
       "        vertical-align: top;\n",
       "    }\n",
       "\n",
       "    .dataframe thead th {\n",
       "        text-align: right;\n",
       "    }\n",
       "</style>\n",
       "<table border=\"1\" class=\"dataframe\">\n",
       "  <thead>\n",
       "    <tr style=\"text-align: right;\">\n",
       "      <th></th>\n",
       "      <th>team_1_score</th>\n",
       "      <th>team_2_score</th>\n",
       "    </tr>\n",
       "  </thead>\n",
       "  <tbody>\n",
       "    <tr>\n",
       "      <th>0</th>\n",
       "      <td>2.0</td>\n",
       "      <td>1.0</td>\n",
       "    </tr>\n",
       "    <tr>\n",
       "      <th>1</th>\n",
       "      <td>4.0</td>\n",
       "      <td>1.0</td>\n",
       "    </tr>\n",
       "    <tr>\n",
       "      <th>2</th>\n",
       "      <td>0.0</td>\n",
       "      <td>1.0</td>\n",
       "    </tr>\n",
       "    <tr>\n",
       "      <th>3</th>\n",
       "      <td>0.0</td>\n",
       "      <td>1.0</td>\n",
       "    </tr>\n",
       "    <tr>\n",
       "      <th>4</th>\n",
       "      <td>2.0</td>\n",
       "      <td>4.0</td>\n",
       "    </tr>\n",
       "  </tbody>\n",
       "</table>\n",
       "</div>"
      ],
      "text/plain": [
       "   team_1_score  team_2_score\n",
       "0           2.0           1.0\n",
       "1           4.0           1.0\n",
       "2           0.0           1.0\n",
       "3           0.0           1.0\n",
       "4           2.0           4.0"
      ]
     },
     "execution_count": 37,
     "metadata": {},
     "output_type": "execute_result"
    }
   ],
   "source": [
    "#Targets to the model (Y)\n",
    "\n",
    "Y.head(5)"
   ]
  },
  {
   "cell_type": "code",
   "execution_count": 38,
   "id": "179dac14",
   "metadata": {},
   "outputs": [
    {
     "data": {
      "text/plain": [
       "88302"
      ]
     },
     "execution_count": 38,
     "metadata": {},
     "output_type": "execute_result"
    }
   ],
   "source": [
    "len(Y)"
   ]
  },
  {
   "cell_type": "code",
   "execution_count": 39,
   "id": "70126b5c",
   "metadata": {},
   "outputs": [
    {
     "name": "stdout",
     "output_type": "stream",
     "text": [
      "<class 'pandas.core.frame.DataFrame'>\n",
      "RangeIndex: 88302 entries, 0 to 88301\n",
      "Data columns (total 4 columns):\n",
      " #   Column   Non-Null Count  Dtype   \n",
      "---  ------   --------------  -----   \n",
      " 0   year     88302 non-null  int64   \n",
      " 1   Country  88302 non-null  category\n",
      " 2   team_1   88302 non-null  category\n",
      " 3   team_2   88302 non-null  category\n",
      "dtypes: category(3), int64(1)\n",
      "memory usage: 1.2 MB\n",
      "None\n",
      "<class 'pandas.core.frame.DataFrame'>\n",
      "RangeIndex: 88302 entries, 0 to 88301\n",
      "Data columns (total 2 columns):\n",
      " #   Column        Non-Null Count  Dtype  \n",
      "---  ------        --------------  -----  \n",
      " 0   team_1_score  88302 non-null  float64\n",
      " 1   team_2_score  88302 non-null  float64\n",
      "dtypes: float64(2)\n",
      "memory usage: 1.3 MB\n",
      "None\n"
     ]
    }
   ],
   "source": [
    "print(categorized_data.info())\n",
    "print(Y.info())"
   ]
  },
  {
   "cell_type": "markdown",
   "id": "c4228136",
   "metadata": {},
   "source": [
    "Membagi dataset dengan train test split untuk melihat algoritma ML yang mana cocok nantinya untuk digunakan "
   ]
  },
  {
   "cell_type": "code",
   "execution_count": 47,
   "id": "653f24b1",
   "metadata": {},
   "outputs": [],
   "source": [
    "X=categorized_data\n",
    "from sklearn.model_selection import train_test_split\n",
    "\n",
    "X_train, X_test, y_train, y_test = train_test_split(X, Y, train_size = 0.8,random_state = 123)"
   ]
  },
  {
   "cell_type": "code",
   "execution_count": 41,
   "id": "1221f557",
   "metadata": {},
   "outputs": [],
   "source": [
    "from sklearn.multioutput import MultiOutputRegressor\n",
    "from sklearn.svm import SVC\n",
    "from sklearn.tree import DecisionTreeClassifier\n",
    "from sklearn.ensemble import RandomForestClassifier\n",
    "from sklearn.neighbors import KNeighborsClassifier"
   ]
  },
  {
   "cell_type": "code",
   "execution_count": 43,
   "id": "7db7d64f",
   "metadata": {},
   "outputs": [
    {
     "name": "stdout",
     "output_type": "stream",
     "text": [
      "Nilai MSE untuk k = 1 adalah : 3.6594473699111036\n",
      "Nilai MSE untuk k = 2 adalah : 3.255506483211596\n",
      "Nilai MSE untuk k = 3 adalah : 3.393324273823679\n",
      "Nilai MSE untuk k = 4 adalah : 3.4053281241152824\n",
      "Nilai MSE untuk k = 5 adalah : 3.3268218107694922\n",
      "Nilai MSE untuk k = 6 adalah : 3.3226034765868295\n",
      "Nilai MSE untuk k = 7 adalah : 3.3129494366117433\n",
      "Nilai MSE untuk k = 8 adalah : 3.3236792933582473\n",
      "Nilai MSE untuk k = 9 adalah : 3.3192344714342337\n",
      "Nilai MSE untuk k = 10 adalah : 3.2980295566502464\n",
      "Nilai MSE untuk k = 11 adalah : 3.3036634392163524\n",
      "Nilai MSE untuk k = 12 adalah : 3.313940320480154\n",
      "Nilai MSE untuk k = 13 adalah : 3.306664401789253\n",
      "Nilai MSE untuk k = 14 adalah : 3.3090142121057697\n",
      "Nilai MSE untuk k = 15 adalah : 3.31226997338769\n",
      "Nilai MSE untuk k = 16 adalah : 3.3164033746673462\n",
      "Nilai MSE untuk k = 17 adalah : 3.3173942585357565\n",
      "Nilai MSE untuk k = 18 adalah : 3.327076609478512\n",
      "Nilai MSE untuk k = 19 adalah : 3.316686484344035\n",
      "Nilai MSE untuk k = 20 adalah : 3.322320366910141\n"
     ]
    }
   ],
   "source": [
    "from sklearn.metrics import mean_squared_error\n",
    "list_mse = []\n",
    "for k in range(1, 21):\n",
    "  model_knn = MultiOutputRegressor(KNeighborsClassifier(n_neighbors=k)).fit(X_train, y_train)\n",
    "  test_mse = mean_squared_error(y_test, model_knn.predict(X_test))\n",
    "  list_mse.append(test_mse)\n",
    "  print(f\"Nilai MSE untuk k = {k} adalah : {test_mse}\")"
   ]
  },
  {
   "cell_type": "code",
   "execution_count": 44,
   "id": "e08dd6dd",
   "metadata": {},
   "outputs": [
    {
     "data": {
      "text/plain": [
       "<AxesSubplot:title={'center':'Visualisasi Nilai K terhadap MSE'}, xlabel='K', ylabel='MSE'>"
      ]
     },
     "execution_count": 44,
     "metadata": {},
     "output_type": "execute_result"
    },
    {
     "data": {
      "image/png": "[encoded data removed]",
      "text/plain": [
       "<Figure size 864x288 with 1 Axes>"
      ]
     },
     "metadata": {
      "needs_background": "light"
     },
     "output_type": "display_data"
    }
   ],
   "source": [
    "pd.DataFrame(list_mse, index=range(1, 21)).plot(\n",
    "    xlabel=\"K\",\n",
    "    ylabel=\"MSE\",\n",
    "    legend=False,\n",
    "    xticks=range(1,21), \n",
    "    figsize=(12,4),\n",
    "    title='Visualisasi Nilai K terhadap MSE')"
   ]
  },
  {
   "cell_type": "code",
   "execution_count": 45,
   "id": "da0b2411",
   "metadata": {},
   "outputs": [],
   "source": [
    "df_models = pd.DataFrame(index=['Train MSE', 'Test MSE'], \n",
    "                      columns=['KNN', 'RandomForest'])"
   ]
  },
  {
   "cell_type": "code",
   "execution_count": 48,
   "id": "3dd51557",
   "metadata": {},
   "outputs": [],
   "source": [
    "KNN = MultiOutputRegressor(KNeighborsClassifier(n_neighbors=2)).fit(X_train, y_train)\n",
    "df_models.loc['Train MSE', 'KNN'] = mean_squared_error(\n",
    "    y_pred=KNN.predict(X_train),\n",
    "    y_true=y_train)\n",
    "df_models.loc['Test MSE', 'KNN'] = mean_squared_error(\n",
    "    y_pred=KNN.predict(X_test),\n",
    "    y_true=y_test)"
   ]
  },
  {
   "cell_type": "code",
   "execution_count": 49,
   "id": "b7f89a25",
   "metadata": {},
   "outputs": [],
   "source": [
    "RF = MultiOutputRegressor(RandomForestClassifier()).fit(X_train,y_train)\n",
    "df_models.loc['Train MSE', 'RandomForest'] = mean_squared_error(\n",
    "    y_pred=RF.predict(X_train),\n",
    "    y_true=y_train)\n",
    "df_models.loc['Test MSE', 'RandomForest'] = mean_squared_error(\n",
    "    y_pred=RF.predict(X_test),\n",
    "    y_true=y_test)"
   ]
  },
  {
   "cell_type": "code",
   "execution_count": 50,
   "id": "14bb5b21",
   "metadata": {},
   "outputs": [
    {
     "data": {
      "text/html": [
       "<div>\n",
       "<style scoped>\n",
       "    .dataframe tbody tr th:only-of-type {\n",
       "        vertical-align: middle;\n",
       "    }\n",
       "\n",
       "    .dataframe tbody tr th {\n",
       "        vertical-align: top;\n",
       "    }\n",
       "\n",
       "    .dataframe thead th {\n",
       "        text-align: right;\n",
       "    }\n",
       "</style>\n",
       "<table border=\"1\" class=\"dataframe\">\n",
       "  <thead>\n",
       "    <tr style=\"text-align: right;\">\n",
       "      <th></th>\n",
       "      <th>KNN</th>\n",
       "      <th>RandomForest</th>\n",
       "    </tr>\n",
       "  </thead>\n",
       "  <tbody>\n",
       "    <tr>\n",
       "      <th>Train MSE</th>\n",
       "      <td>1.911107</td>\n",
       "      <td>0.513059</td>\n",
       "    </tr>\n",
       "    <tr>\n",
       "      <th>Test MSE</th>\n",
       "      <td>3.255506</td>\n",
       "      <td>3.32484</td>\n",
       "    </tr>\n",
       "  </tbody>\n",
       "</table>\n",
       "</div>"
      ],
      "text/plain": [
       "                KNN RandomForest\n",
       "Train MSE  1.911107     0.513059\n",
       "Test MSE   3.255506      3.32484"
      ]
     },
     "execution_count": 50,
     "metadata": {},
     "output_type": "execute_result"
    }
   ],
   "source": [
    "df_models"
   ]
  },
  {
   "cell_type": "code",
   "execution_count": 51,
   "id": "c3c091eb",
   "metadata": {
    "scrolled": true
   },
   "outputs": [
    {
     "data": {
      "image/png": "[encoded data removed]",
      "text/plain": [
       "<Figure size 432x288 with 1 Axes>"
      ]
     },
     "metadata": {
      "needs_background": "light"
     },
     "output_type": "display_data"
    }
   ],
   "source": [
    "fig, ax = plt.subplots()\n",
    "df_models.T.sort_values(by='Test MSE', ascending=False).plot(kind='barh', ax=ax, zorder=3)\n",
    "ax.grid(zorder=0)\n",
    "     "
   ]
  },
  {
   "cell_type": "markdown",
   "id": "1486eb47",
   "metadata": {},
   "source": [
    "Lakukan Predict dengan full data X dan Y setelah diuji data train dan test terlihat bahwa algrotima Random Forest lebih baik dibandingkan dengan KNN"
   ]
  },
  {
   "cell_type": "code",
   "execution_count": 52,
   "id": "ecfe265c",
   "metadata": {},
   "outputs": [],
   "source": [
    "RF = MultiOutputRegressor(RandomForestClassifier()).fit(X,Y)"
   ]
  },
  {
   "cell_type": "code",
   "execution_count": 53,
   "id": "ad242cf0",
   "metadata": {},
   "outputs": [
    {
     "data": {
      "text/plain": [
       "array([[2., 1.],\n",
       "       [1., 1.],\n",
       "       [0., 1.],\n",
       "       ...,\n",
       "       [1., 0.],\n",
       "       [0., 1.],\n",
       "       [6., 0.]])"
      ]
     },
     "execution_count": 53,
     "metadata": {},
     "output_type": "execute_result"
    }
   ],
   "source": [
    "prd=RF.predict(X)\n",
    "prd"
   ]
  },
  {
   "cell_type": "code",
   "execution_count": 54,
   "id": "a092da8d",
   "metadata": {},
   "outputs": [],
   "source": [
    "score_team_1=[i[0] for i in prd]\n",
    "score_team_2=[i[1] for i in prd]\n",
    "\n",
    "from sklearn.metrics import confusion_matrix\n",
    "cm1=confusion_matrix(list(Y.iloc[:,0]),score_team_1)\n",
    "cm2=confusion_matrix(list(Y.iloc[:,1]),score_team_2)"
   ]
  },
  {
   "cell_type": "code",
   "execution_count": 58,
   "id": "8d761165",
   "metadata": {},
   "outputs": [
    {
     "data": {
      "text/plain": [
       "Text(159.0, 0.5, 'Predicted')"
      ]
     },
     "execution_count": 58,
     "metadata": {},
     "output_type": "execute_result"
    },
    {
     "data": {
      "image/png": "[encoded data removed]",
      "text/plain": [
       "<Figure size 1440x1440 with 2 Axes>"
      ]
     },
     "metadata": {
      "needs_background": "light"
     },
     "output_type": "display_data"
    }
   ],
   "source": [
    "plt.figure(figsize=(20,20))\n",
    "sns.heatmap(cm1, annot=True,fmt=\"d\", cmap='YlGnBu', linecolor='black', linewidths=1)\n",
    "plt.title(\"Confusion Matrix for Team 1 Score\")\n",
    "plt.xlabel(\"Actual\")\n",
    "plt.ylabel(\"Predicted\")"
   ]
  },
  {
   "cell_type": "code",
   "execution_count": 56,
   "id": "d298e2f8",
   "metadata": {},
   "outputs": [
    {
     "name": "stdout",
     "output_type": "stream",
     "text": [
      "              precision    recall  f1-score   support\n",
      "\n",
      "         0.0       0.87      0.89      0.88     27119\n",
      "         1.0       0.86      0.88      0.87     27398\n",
      "         2.0       0.85      0.84      0.85     17359\n",
      "         3.0       0.85      0.80      0.83      8436\n",
      "         4.0       0.86      0.79      0.82      4037\n",
      "         5.0       0.85      0.79      0.82      1835\n",
      "         6.0       0.85      0.80      0.83       973\n",
      "         7.0       0.86      0.83      0.84       513\n",
      "         8.0       0.85      0.79      0.82       274\n",
      "         9.0       0.86      0.83      0.85       158\n",
      "        10.0       0.90      0.84      0.87        88\n",
      "        11.0       0.90      0.90      0.90        41\n",
      "        12.0       0.88      0.86      0.87        35\n",
      "        13.0       0.95      0.87      0.91        23\n",
      "        14.0       1.00      0.92      0.96        13\n",
      "\n",
      "    accuracy                           0.86     88302\n",
      "   macro avg       0.88      0.84      0.86     88302\n",
      "weighted avg       0.86      0.86      0.86     88302\n",
      "\n"
     ]
    }
   ],
   "source": [
    "from sklearn.metrics import classification_report\n",
    "report_1=classification_report(Y.iloc[:,0],score_team_1)\n",
    "print(report_1)\n"
   ]
  },
  {
   "cell_type": "code",
   "execution_count": 57,
   "id": "7fb3f6ea",
   "metadata": {},
   "outputs": [
    {
     "data": {
      "text/plain": [
       "Text(159.0, 0.5, 'Predicted')"
      ]
     },
     "execution_count": 57,
     "metadata": {},
     "output_type": "execute_result"
    },
    {
     "data": {
      "image/png": "[encoded data removed]",
      "text/plain": [
       "<Figure size 1440x1440 with 2 Axes>"
      ]
     },
     "metadata": {
      "needs_background": "light"
     },
     "output_type": "display_data"
    }
   ],
   "source": [
    "plt.figure(figsize=(20,20))\n",
    "sns.heatmap(cm2, annot=True,fmt=\"d\", cmap='YlGnBu', linecolor='black', linewidths=1)\n",
    "plt.title(\"Confusion Matrix for team 2 score\")\n",
    "plt.xlabel(\"Actual\")\n",
    "plt.ylabel(\"Predicted\")"
   ]
  },
  {
   "cell_type": "code",
   "execution_count": 59,
   "id": "02af26e9",
   "metadata": {},
   "outputs": [
    {
     "name": "stdout",
     "output_type": "stream",
     "text": [
      "              precision    recall  f1-score   support\n",
      "\n",
      "         0.0       0.87      0.89      0.88     27119\n",
      "         1.0       0.86      0.88      0.87     27398\n",
      "         2.0       0.85      0.84      0.85     17359\n",
      "         3.0       0.86      0.80      0.83      8436\n",
      "         4.0       0.86      0.80      0.83      4037\n",
      "         5.0       0.85      0.79      0.82      1835\n",
      "         6.0       0.86      0.79      0.82       973\n",
      "         7.0       0.87      0.83      0.85       513\n",
      "         8.0       0.88      0.76      0.82       274\n",
      "         9.0       0.87      0.82      0.84       158\n",
      "        10.0       0.87      0.86      0.87        88\n",
      "        11.0       0.88      0.90      0.89        41\n",
      "        12.0       0.86      0.89      0.87        35\n",
      "        13.0       0.95      0.87      0.91        23\n",
      "        14.0       1.00      0.92      0.96        13\n",
      "\n",
      "    accuracy                           0.86     88302\n",
      "   macro avg       0.88      0.84      0.86     88302\n",
      "weighted avg       0.86      0.86      0.86     88302\n",
      "\n"
     ]
    }
   ],
   "source": [
    "report_2=classification_report(Y.iloc[:,1],score_team_2)\n",
    "print(report_2)"
   ]
  },
  {
   "cell_type": "code",
   "execution_count": 60,
   "id": "34ab66ab",
   "metadata": {},
   "outputs": [],
   "source": [
    "def select_winning_team(probability_array):\n",
    "    prob_lst=[round(probability_array[0][i],3) for i in range(2)]\n",
    "    if (prob_lst[0]>prob_lst[1]):\n",
    "        out=0\n",
    "    elif (prob_lst[0]<prob_lst[1]):\n",
    "        out=1\n",
    "    elif (prob_lst[0]==prob_lst[1]):\n",
    "        out=2\n",
    "    return out,prob_lst"
   ]
  },
  {
   "cell_type": "code",
   "execution_count": 82,
   "id": "dc5a9c3c",
   "metadata": {},
   "outputs": [
    {
     "name": "stdout",
     "output_type": "stream",
     "text": [
      "Team 01 is United States -319\n",
      "Team 02 is Netherlands -204\n",
      "Played in  Qatar -242\n"
     ]
    }
   ],
   "source": [
    "match_played=2022\n",
    "team_1=\"United States\"\n",
    "team_2=\"Netherlands\"\n",
    "stadium=\"Qatar\"\n",
    "\n",
    "team_lst=[team_1,team_2]\n",
    "team_1_num=label_encoder.transform([team_1])[0]\n",
    "team_2_num=label_encoder.transform([team_2])[0]\n",
    "stadium_num=label_encoder.transform([stadium])[0]\n",
    "\n",
    "print(f\"Team 01 is {team_1} -{team_1_num}\")\n",
    "print(f\"Team 02 is {team_2} -{team_2_num}\")\n",
    "print(f\"Played in  {stadium} -{stadium_num}\")"
   ]
  },
  {
   "cell_type": "code",
   "execution_count": 83,
   "id": "7f82a1e1",
   "metadata": {},
   "outputs": [
    {
     "name": "stdout",
     "output_type": "stream",
     "text": [
      "United States vs Netherlands \n",
      " Netherlands wins 🏆⚽🎯\n",
      "\n"
     ]
    },
    {
     "name": "stderr",
     "output_type": "stream",
     "text": [
      "C:\\Users\\FKR Computer\\anaconda3\\lib\\site-packages\\sklearn\\base.py:450: UserWarning: X does not have valid feature names, but RandomForestClassifier was fitted with feature names\n",
      "  warnings.warn(\n",
      "C:\\Users\\FKR Computer\\anaconda3\\lib\\site-packages\\sklearn\\base.py:450: UserWarning: X does not have valid feature names, but RandomForestClassifier was fitted with feature names\n",
      "  warnings.warn(\n"
     ]
    }
   ],
   "source": [
    "#Sample Prediction Output\n",
    "\n",
    "X_feature=np.array([[match_played,stadium_num,team_1_num,team_2_num]])\n",
    "res=RF.predict(X_feature)\n",
    "win,_=select_winning_team(res)\n",
    "try:\n",
    "    print(f\"{team_1} vs {team_2} \\n {team_lst[win]} wins 🏆⚽🎯\\n\")\n",
    "except IndexError:\n",
    "    print(f\"{team_1} vs {team_2} \\n  Match Draw ⚽⚽⚽\\n\") "
   ]
  },
  {
   "cell_type": "code",
   "execution_count": null,
   "id": "f4c76ff9",
   "metadata": {},
   "outputs": [],
   "source": []
  }
 ],
 "metadata": {
  "kernelspec": {
   "display_name": "Python 3 (ipykernel)",
   "language": "python",
   "name": "python3"
  },
  "language_info": {
   "codemirror_mode": {
    "name": "ipython",
    "version": 3
   },
   "file_extension": ".py",
   "mimetype": "text/x-python",
   "name": "python",
   "nbconvert_exporter": "python",
   "pygments_lexer": "ipython3",
   "version": "3.9.12"
  }
 },
 "nbformat": 4,
 "nbformat_minor": 5
}
